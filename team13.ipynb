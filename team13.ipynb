{
 "cells": [
  {
   "cell_type": "code",
   "execution_count": 1,
   "metadata": {},
   "outputs": [],
   "source": [
    "import matplotlib.pyplot as plt\n",
    "import matplotlib.pyplot as plt1\n",
    "%matplotlib inline\n",
    "import warnings\n",
    "warnings.filterwarnings(\"ignore\")\n",
    "import pandas as pd\n",
    "from sklearn.model_selection import train_test_split\n",
    "from sklearn import metrics\n",
    "from sklearn.metrics import plot_confusion_matrix\n",
    "from sklearn.pipeline import Pipeline\n",
    "from sklearn.svm import SVC\n",
    "from sklearn.preprocessing import StandardScaler\n",
    "from sklearn.datasets import make_classification\n",
    "from sklearn.model_selection import train_test_split\n",
    "from sklearn.pipeline import Pipeline\n",
    "from sklearn.metrics import plot_confusion_matrix\n",
    "from scipy.io.wavfile import write\n",
    "import speech_recognition as sr\n",
    "from audiomentations import Compose, AddGaussianNoise, PitchShift, HighPassFilter\n",
    "import soundfile as sf"
   ]
  },
  {
   "cell_type": "code",
   "execution_count": 2,
   "metadata": {},
   "outputs": [],
   "source": [
    "import pyttsx3"
   ]
  },
  {
   "cell_type": "code",
   "execution_count": 3,
   "metadata": {},
   "outputs": [],
   "source": [
    "engine = pyttsx3.init('sapi5')\n",
    "voices = engine.getProperty('voices')\n",
    "# print(voices[1].id)\n",
    "engine.setProperty('voice', voices[0].id)\n",
    "\n",
    "\n",
    "def speak(audio):\n",
    "    engine.say(audio)\n",
    "    engine.runAndWait()\n"
   ]
  },
  {
   "cell_type": "code",
   "execution_count": 4,
   "metadata": {},
   "outputs": [],
   "source": [
    "from pydub import AudioSegment"
   ]
  },
  {
   "cell_type": "code",
   "execution_count": 5,
   "metadata": {},
   "outputs": [],
   "source": [
    "import pandas as pd"
   ]
  },
  {
   "cell_type": "code",
   "execution_count": 80,
   "metadata": {},
   "outputs": [],
   "source": [
    "#! pip install librosa\n",
    "#! pip install mir_eval\n",
    "import librosa\n",
    "import librosa.display as dsp\n",
    "import mir_eval\n",
    "from IPython.display import Audio\n",
    "import matplotlib.pyplot as plt\n",
    "import numpy as np"
   ]
  },
  {
   "cell_type": "code",
   "execution_count": 81,
   "metadata": {},
   "outputs": [],
   "source": [
    "metadata=pd.read_csv(r\"C:\\Users\\hp\\OneDrive\\Desktop\\metadata.csv\")"
   ]
  },
  {
   "cell_type": "code",
   "execution_count": 82,
   "metadata": {},
   "outputs": [
    {
     "data": {
      "text/html": [
       "<div>\n",
       "<style scoped>\n",
       "    .dataframe tbody tr th:only-of-type {\n",
       "        vertical-align: middle;\n",
       "    }\n",
       "\n",
       "    .dataframe tbody tr th {\n",
       "        vertical-align: top;\n",
       "    }\n",
       "\n",
       "    .dataframe thead th {\n",
       "        text-align: right;\n",
       "    }\n",
       "</style>\n",
       "<table border=\"1\" class=\"dataframe\">\n",
       "  <thead>\n",
       "    <tr style=\"text-align: right;\">\n",
       "      <th></th>\n",
       "      <th>class</th>\n",
       "      <th>location</th>\n",
       "      <th>total</th>\n",
       "    </tr>\n",
       "  </thead>\n",
       "  <tbody>\n",
       "    <tr>\n",
       "      <th>0</th>\n",
       "      <td>chiranjeevi original-</td>\n",
       "      <td>F:\\project\\chiranjeevi original</td>\n",
       "      <td>65</td>\n",
       "    </tr>\n",
       "    <tr>\n",
       "      <th>1</th>\n",
       "      <td>chiru</td>\n",
       "      <td>F:\\project\\chiru</td>\n",
       "      <td>35</td>\n",
       "    </tr>\n",
       "    <tr>\n",
       "      <th>2</th>\n",
       "      <td>ANR mimicry-</td>\n",
       "      <td>F:\\project\\ANR mimicry</td>\n",
       "      <td>37</td>\n",
       "    </tr>\n",
       "    <tr>\n",
       "      <th>3</th>\n",
       "      <td>ANR original-</td>\n",
       "      <td>F:\\project\\ANR original</td>\n",
       "      <td>50</td>\n",
       "    </tr>\n",
       "  </tbody>\n",
       "</table>\n",
       "</div>"
      ],
      "text/plain": [
       "                  class                         location   total\n",
       "0  chiranjeevi original-  F:\\project\\chiranjeevi original     65\n",
       "1                  chiru                 F:\\project\\chiru     35\n",
       "2           ANR mimicry-           F:\\project\\ANR mimicry     37\n",
       "3          ANR original-          F:\\project\\ANR original     50"
      ]
     },
     "execution_count": 82,
     "metadata": {},
     "output_type": "execute_result"
    }
   ],
   "source": [
    "metadata"
   ]
  },
  {
   "cell_type": "code",
   "execution_count": 83,
   "metadata": {},
   "outputs": [],
   "source": [
    "augment_raw_audio = Compose(\n",
    "    [\n",
    "        PitchShift(min_semitones=-8, max_semitones=8, p=1),\n",
    "        #HighPassFilter(min_cutoff_freq=2000, max_cutoff_freq=4000, p=1)\n",
    "    ]\n",
    ")\n"
   ]
  },
  {
   "cell_type": "code",
   "execution_count": 84,
   "metadata": {},
   "outputs": [],
   "source": [
    "x=metadata\n",
    "#print(str(x.iloc[i,1])+ str(\"\\\\\")+ str(x.iloc[i,0])+str(x.iloc[i,2]+1)+\".wav\")"
   ]
  },
  {
   "cell_type": "markdown",
   "metadata": {},
   "source": [
    "i=0\n",
    "j=1\n",
    "k= str(x.iloc[i,1])+ str(\"\\\\\")+ str(x.iloc[i,0])+str(j)+ \".wav\"\n",
    "signal, sr = librosa.load(k)\n",
    "augmented_signal = augment_raw_audio(signal, sr)\n",
    "path =str(x.iloc[i,1])+ str(\"\\\\\")+ str(x.iloc[i,0])+str(x.iloc[i,2]+1)+\".wav\"\n",
    "f= open(p,\"w+\")\n",
    "sf.write(p+\"guru99.wav\", augmented_signal, sr)"
   ]
  },
  {
   "cell_type": "code",
   "execution_count": 85,
   "metadata": {},
   "outputs": [],
   "source": [
    "def k(x):\n",
    "    y=[]\n",
    "    for i in range(len(x.iloc[:,0])):\n",
    "        \n",
    "        for j in range(1,int(x.iloc[i,2])+1):\n",
    "            k= str(x.iloc[i,1])+ str(\"\\\\\")+ str(x.iloc[i,0])+str(j)+ \".wav\"\n",
    "            signal, sr = librosa.load(k)\n",
    "            augmented_signal = augment_raw_audio(signal, sr)\n",
    "            path =str(x.iloc[i,1])+ str(\"\\\\\")+ str(x.iloc[i,0])+str(x.iloc[i,2]+j)+\".wav\"\n",
    "            f= open(path,\"w+\")\n",
    "            sf.write(path, augmented_signal, sr)\n",
    "k(x)"
   ]
  },
  {
   "cell_type": "code",
   "execution_count": null,
   "metadata": {},
   "outputs": [],
   "source": []
  },
  {
   "cell_type": "code",
   "execution_count": 78,
   "metadata": {},
   "outputs": [],
   "source": [
    "def f(x):\n",
    "    y=[]\n",
    "    for i in range(len(x.iloc[:,0])):\n",
    "        \n",
    "        for j in range(1,2*int(x.iloc[i,2])-2):\n",
    "            \n",
    "            k= str(x.iloc[i,1])+ str(\"\\\\\")+ str(x.iloc[i,0])+str(j)+ \".wav\"\n",
    "            audio,sample_rate = librosa.load(k,res_type='kaiser_fast')\n",
    "            \n",
    "            mfccs_features = librosa.feature.mfcc(y=audio, sr=sample_rate, n_mfcc=40)\n",
    "            mfccs_scaled_features = np.mean(mfccs_features.T,axis=0)\n",
    "            b=list(mfccs_scaled_features)\n",
    "            b.append(x.iloc[i,0])\n",
    "            y.append(b)\n",
    "    return y"
   ]
  },
  {
   "cell_type": "code",
   "execution_count": 86,
   "metadata": {},
   "outputs": [],
   "source": [
    "y= f(metadata)"
   ]
  },
  {
   "cell_type": "code",
   "execution_count": 87,
   "metadata": {},
   "outputs": [
    {
     "data": {
      "text/plain": [
       "362"
      ]
     },
     "execution_count": 87,
     "metadata": {},
     "output_type": "execute_result"
    }
   ],
   "source": [
    "len(y)"
   ]
  },
  {
   "cell_type": "code",
   "execution_count": 88,
   "metadata": {},
   "outputs": [],
   "source": [
    "edf=pd.DataFrame(y,columns = [x for x in range(41)])"
   ]
  },
  {
   "cell_type": "code",
   "execution_count": 89,
   "metadata": {
    "scrolled": true
   },
   "outputs": [],
   "source": [
    "cl=edf.columns"
   ]
  },
  {
   "cell_type": "code",
   "execution_count": 90,
   "metadata": {},
   "outputs": [
    {
     "data": {
      "text/html": [
       "<div>\n",
       "<style scoped>\n",
       "    .dataframe tbody tr th:only-of-type {\n",
       "        vertical-align: middle;\n",
       "    }\n",
       "\n",
       "    .dataframe tbody tr th {\n",
       "        vertical-align: top;\n",
       "    }\n",
       "\n",
       "    .dataframe thead th {\n",
       "        text-align: right;\n",
       "    }\n",
       "</style>\n",
       "<table border=\"1\" class=\"dataframe\">\n",
       "  <thead>\n",
       "    <tr style=\"text-align: right;\">\n",
       "      <th></th>\n",
       "      <th>0</th>\n",
       "      <th>1</th>\n",
       "      <th>2</th>\n",
       "      <th>3</th>\n",
       "      <th>4</th>\n",
       "      <th>5</th>\n",
       "      <th>6</th>\n",
       "      <th>7</th>\n",
       "      <th>8</th>\n",
       "      <th>9</th>\n",
       "      <th>...</th>\n",
       "      <th>31</th>\n",
       "      <th>32</th>\n",
       "      <th>33</th>\n",
       "      <th>34</th>\n",
       "      <th>35</th>\n",
       "      <th>36</th>\n",
       "      <th>37</th>\n",
       "      <th>38</th>\n",
       "      <th>39</th>\n",
       "      <th>40</th>\n",
       "    </tr>\n",
       "  </thead>\n",
       "  <tbody>\n",
       "    <tr>\n",
       "      <th>0</th>\n",
       "      <td>-206.915649</td>\n",
       "      <td>100.187340</td>\n",
       "      <td>-32.213154</td>\n",
       "      <td>35.693474</td>\n",
       "      <td>-9.092731</td>\n",
       "      <td>16.664572</td>\n",
       "      <td>-5.313095</td>\n",
       "      <td>9.479670</td>\n",
       "      <td>-20.473705</td>\n",
       "      <td>6.460907</td>\n",
       "      <td>...</td>\n",
       "      <td>0.674733</td>\n",
       "      <td>-1.147056</td>\n",
       "      <td>-1.813995</td>\n",
       "      <td>-1.432564</td>\n",
       "      <td>0.856860</td>\n",
       "      <td>0.838472</td>\n",
       "      <td>2.971595</td>\n",
       "      <td>4.306870</td>\n",
       "      <td>3.671580</td>\n",
       "      <td>chiranjeevi original-</td>\n",
       "    </tr>\n",
       "    <tr>\n",
       "      <th>1</th>\n",
       "      <td>-168.503799</td>\n",
       "      <td>92.796013</td>\n",
       "      <td>-43.470993</td>\n",
       "      <td>44.681686</td>\n",
       "      <td>-9.913730</td>\n",
       "      <td>18.575882</td>\n",
       "      <td>-12.464251</td>\n",
       "      <td>16.839586</td>\n",
       "      <td>-20.355118</td>\n",
       "      <td>2.868820</td>\n",
       "      <td>...</td>\n",
       "      <td>3.128470</td>\n",
       "      <td>5.135781</td>\n",
       "      <td>4.589956</td>\n",
       "      <td>2.972625</td>\n",
       "      <td>5.682449</td>\n",
       "      <td>7.099750</td>\n",
       "      <td>6.227372</td>\n",
       "      <td>6.285898</td>\n",
       "      <td>5.299379</td>\n",
       "      <td>chiranjeevi original-</td>\n",
       "    </tr>\n",
       "    <tr>\n",
       "      <th>2</th>\n",
       "      <td>-259.355194</td>\n",
       "      <td>84.782806</td>\n",
       "      <td>-32.544975</td>\n",
       "      <td>34.884106</td>\n",
       "      <td>2.299232</td>\n",
       "      <td>14.806336</td>\n",
       "      <td>-10.628572</td>\n",
       "      <td>3.841967</td>\n",
       "      <td>-21.005394</td>\n",
       "      <td>4.796550</td>\n",
       "      <td>...</td>\n",
       "      <td>0.359363</td>\n",
       "      <td>-1.479052</td>\n",
       "      <td>0.661695</td>\n",
       "      <td>-1.770656</td>\n",
       "      <td>0.823466</td>\n",
       "      <td>-0.450124</td>\n",
       "      <td>0.577029</td>\n",
       "      <td>1.828550</td>\n",
       "      <td>2.666865</td>\n",
       "      <td>chiranjeevi original-</td>\n",
       "    </tr>\n",
       "    <tr>\n",
       "      <th>3</th>\n",
       "      <td>-304.515564</td>\n",
       "      <td>107.515808</td>\n",
       "      <td>-34.179028</td>\n",
       "      <td>29.284449</td>\n",
       "      <td>11.141503</td>\n",
       "      <td>11.212320</td>\n",
       "      <td>-6.000972</td>\n",
       "      <td>7.561637</td>\n",
       "      <td>-19.814968</td>\n",
       "      <td>3.140187</td>\n",
       "      <td>...</td>\n",
       "      <td>1.544027</td>\n",
       "      <td>-0.211164</td>\n",
       "      <td>0.011923</td>\n",
       "      <td>-1.396156</td>\n",
       "      <td>0.286330</td>\n",
       "      <td>-1.139802</td>\n",
       "      <td>-1.681980</td>\n",
       "      <td>0.924567</td>\n",
       "      <td>2.572811</td>\n",
       "      <td>chiranjeevi original-</td>\n",
       "    </tr>\n",
       "    <tr>\n",
       "      <th>4</th>\n",
       "      <td>-261.992157</td>\n",
       "      <td>84.354660</td>\n",
       "      <td>-31.479340</td>\n",
       "      <td>24.127695</td>\n",
       "      <td>-2.888325</td>\n",
       "      <td>11.604282</td>\n",
       "      <td>-7.427988</td>\n",
       "      <td>10.674010</td>\n",
       "      <td>-13.976500</td>\n",
       "      <td>10.212080</td>\n",
       "      <td>...</td>\n",
       "      <td>3.961703</td>\n",
       "      <td>1.596172</td>\n",
       "      <td>4.365419</td>\n",
       "      <td>4.963208</td>\n",
       "      <td>7.788960</td>\n",
       "      <td>6.138669</td>\n",
       "      <td>4.439319</td>\n",
       "      <td>3.514583</td>\n",
       "      <td>3.402252</td>\n",
       "      <td>chiranjeevi original-</td>\n",
       "    </tr>\n",
       "    <tr>\n",
       "      <th>...</th>\n",
       "      <td>...</td>\n",
       "      <td>...</td>\n",
       "      <td>...</td>\n",
       "      <td>...</td>\n",
       "      <td>...</td>\n",
       "      <td>...</td>\n",
       "      <td>...</td>\n",
       "      <td>...</td>\n",
       "      <td>...</td>\n",
       "      <td>...</td>\n",
       "      <td>...</td>\n",
       "      <td>...</td>\n",
       "      <td>...</td>\n",
       "      <td>...</td>\n",
       "      <td>...</td>\n",
       "      <td>...</td>\n",
       "      <td>...</td>\n",
       "      <td>...</td>\n",
       "      <td>...</td>\n",
       "      <td>...</td>\n",
       "      <td>...</td>\n",
       "    </tr>\n",
       "    <tr>\n",
       "      <th>357</th>\n",
       "      <td>-362.921173</td>\n",
       "      <td>155.797058</td>\n",
       "      <td>16.103050</td>\n",
       "      <td>6.414621</td>\n",
       "      <td>12.099456</td>\n",
       "      <td>6.501877</td>\n",
       "      <td>8.527107</td>\n",
       "      <td>-1.071170</td>\n",
       "      <td>6.649951</td>\n",
       "      <td>15.201897</td>\n",
       "      <td>...</td>\n",
       "      <td>-3.749605</td>\n",
       "      <td>-5.082999</td>\n",
       "      <td>-5.294629</td>\n",
       "      <td>-2.664591</td>\n",
       "      <td>-1.787759</td>\n",
       "      <td>-2.276068</td>\n",
       "      <td>-2.999889</td>\n",
       "      <td>-3.122648</td>\n",
       "      <td>0.264279</td>\n",
       "      <td>ANR original-</td>\n",
       "    </tr>\n",
       "    <tr>\n",
       "      <th>358</th>\n",
       "      <td>-343.471130</td>\n",
       "      <td>115.324394</td>\n",
       "      <td>-0.216542</td>\n",
       "      <td>6.235166</td>\n",
       "      <td>5.411654</td>\n",
       "      <td>4.859774</td>\n",
       "      <td>-4.455968</td>\n",
       "      <td>-15.285277</td>\n",
       "      <td>-19.753822</td>\n",
       "      <td>-0.154982</td>\n",
       "      <td>...</td>\n",
       "      <td>2.939217</td>\n",
       "      <td>3.507010</td>\n",
       "      <td>2.976782</td>\n",
       "      <td>-1.104984</td>\n",
       "      <td>-2.105675</td>\n",
       "      <td>-0.276942</td>\n",
       "      <td>-1.666124</td>\n",
       "      <td>-2.847944</td>\n",
       "      <td>1.438521</td>\n",
       "      <td>ANR original-</td>\n",
       "    </tr>\n",
       "    <tr>\n",
       "      <th>359</th>\n",
       "      <td>-336.181641</td>\n",
       "      <td>128.573303</td>\n",
       "      <td>-11.967757</td>\n",
       "      <td>14.180093</td>\n",
       "      <td>4.753082</td>\n",
       "      <td>3.026453</td>\n",
       "      <td>-4.273886</td>\n",
       "      <td>-5.783473</td>\n",
       "      <td>-20.258249</td>\n",
       "      <td>0.234689</td>\n",
       "      <td>...</td>\n",
       "      <td>-0.209548</td>\n",
       "      <td>0.445950</td>\n",
       "      <td>3.123413</td>\n",
       "      <td>2.906052</td>\n",
       "      <td>0.346239</td>\n",
       "      <td>1.462624</td>\n",
       "      <td>4.063566</td>\n",
       "      <td>0.712741</td>\n",
       "      <td>0.854655</td>\n",
       "      <td>ANR original-</td>\n",
       "    </tr>\n",
       "    <tr>\n",
       "      <th>360</th>\n",
       "      <td>-294.176331</td>\n",
       "      <td>124.590332</td>\n",
       "      <td>-9.103840</td>\n",
       "      <td>20.237398</td>\n",
       "      <td>3.123766</td>\n",
       "      <td>7.835172</td>\n",
       "      <td>-9.851385</td>\n",
       "      <td>-5.604244</td>\n",
       "      <td>-24.307436</td>\n",
       "      <td>-0.804645</td>\n",
       "      <td>...</td>\n",
       "      <td>3.970772</td>\n",
       "      <td>0.936355</td>\n",
       "      <td>4.633698</td>\n",
       "      <td>4.619169</td>\n",
       "      <td>0.061919</td>\n",
       "      <td>1.424588</td>\n",
       "      <td>4.577943</td>\n",
       "      <td>2.558877</td>\n",
       "      <td>-0.801049</td>\n",
       "      <td>ANR original-</td>\n",
       "    </tr>\n",
       "    <tr>\n",
       "      <th>361</th>\n",
       "      <td>-353.838806</td>\n",
       "      <td>129.369202</td>\n",
       "      <td>30.520405</td>\n",
       "      <td>11.294154</td>\n",
       "      <td>6.883696</td>\n",
       "      <td>2.558459</td>\n",
       "      <td>2.691134</td>\n",
       "      <td>3.262413</td>\n",
       "      <td>12.822259</td>\n",
       "      <td>4.332840</td>\n",
       "      <td>...</td>\n",
       "      <td>-3.992092</td>\n",
       "      <td>-2.877099</td>\n",
       "      <td>-1.257671</td>\n",
       "      <td>-1.916676</td>\n",
       "      <td>-2.133358</td>\n",
       "      <td>-0.006915</td>\n",
       "      <td>0.702925</td>\n",
       "      <td>-1.655045</td>\n",
       "      <td>-4.370634</td>\n",
       "      <td>ANR original-</td>\n",
       "    </tr>\n",
       "  </tbody>\n",
       "</table>\n",
       "<p>362 rows × 41 columns</p>\n",
       "</div>"
      ],
      "text/plain": [
       "             0           1          2          3          4          5   \\\n",
       "0   -206.915649  100.187340 -32.213154  35.693474  -9.092731  16.664572   \n",
       "1   -168.503799   92.796013 -43.470993  44.681686  -9.913730  18.575882   \n",
       "2   -259.355194   84.782806 -32.544975  34.884106   2.299232  14.806336   \n",
       "3   -304.515564  107.515808 -34.179028  29.284449  11.141503  11.212320   \n",
       "4   -261.992157   84.354660 -31.479340  24.127695  -2.888325  11.604282   \n",
       "..          ...         ...        ...        ...        ...        ...   \n",
       "357 -362.921173  155.797058  16.103050   6.414621  12.099456   6.501877   \n",
       "358 -343.471130  115.324394  -0.216542   6.235166   5.411654   4.859774   \n",
       "359 -336.181641  128.573303 -11.967757  14.180093   4.753082   3.026453   \n",
       "360 -294.176331  124.590332  -9.103840  20.237398   3.123766   7.835172   \n",
       "361 -353.838806  129.369202  30.520405  11.294154   6.883696   2.558459   \n",
       "\n",
       "            6          7          8          9   ...        31        32  \\\n",
       "0    -5.313095   9.479670 -20.473705   6.460907  ...  0.674733 -1.147056   \n",
       "1   -12.464251  16.839586 -20.355118   2.868820  ...  3.128470  5.135781   \n",
       "2   -10.628572   3.841967 -21.005394   4.796550  ...  0.359363 -1.479052   \n",
       "3    -6.000972   7.561637 -19.814968   3.140187  ...  1.544027 -0.211164   \n",
       "4    -7.427988  10.674010 -13.976500  10.212080  ...  3.961703  1.596172   \n",
       "..         ...        ...        ...        ...  ...       ...       ...   \n",
       "357   8.527107  -1.071170   6.649951  15.201897  ... -3.749605 -5.082999   \n",
       "358  -4.455968 -15.285277 -19.753822  -0.154982  ...  2.939217  3.507010   \n",
       "359  -4.273886  -5.783473 -20.258249   0.234689  ... -0.209548  0.445950   \n",
       "360  -9.851385  -5.604244 -24.307436  -0.804645  ...  3.970772  0.936355   \n",
       "361   2.691134   3.262413  12.822259   4.332840  ... -3.992092 -2.877099   \n",
       "\n",
       "           33        34        35        36        37        38        39  \\\n",
       "0   -1.813995 -1.432564  0.856860  0.838472  2.971595  4.306870  3.671580   \n",
       "1    4.589956  2.972625  5.682449  7.099750  6.227372  6.285898  5.299379   \n",
       "2    0.661695 -1.770656  0.823466 -0.450124  0.577029  1.828550  2.666865   \n",
       "3    0.011923 -1.396156  0.286330 -1.139802 -1.681980  0.924567  2.572811   \n",
       "4    4.365419  4.963208  7.788960  6.138669  4.439319  3.514583  3.402252   \n",
       "..        ...       ...       ...       ...       ...       ...       ...   \n",
       "357 -5.294629 -2.664591 -1.787759 -2.276068 -2.999889 -3.122648  0.264279   \n",
       "358  2.976782 -1.104984 -2.105675 -0.276942 -1.666124 -2.847944  1.438521   \n",
       "359  3.123413  2.906052  0.346239  1.462624  4.063566  0.712741  0.854655   \n",
       "360  4.633698  4.619169  0.061919  1.424588  4.577943  2.558877 -0.801049   \n",
       "361 -1.257671 -1.916676 -2.133358 -0.006915  0.702925 -1.655045 -4.370634   \n",
       "\n",
       "                        40  \n",
       "0    chiranjeevi original-  \n",
       "1    chiranjeevi original-  \n",
       "2    chiranjeevi original-  \n",
       "3    chiranjeevi original-  \n",
       "4    chiranjeevi original-  \n",
       "..                     ...  \n",
       "357          ANR original-  \n",
       "358          ANR original-  \n",
       "359          ANR original-  \n",
       "360          ANR original-  \n",
       "361          ANR original-  \n",
       "\n",
       "[362 rows x 41 columns]"
      ]
     },
     "execution_count": 90,
     "metadata": {},
     "output_type": "execute_result"
    }
   ],
   "source": [
    "edf"
   ]
  },
  {
   "cell_type": "markdown",
   "metadata": {},
   "source": [
    "data visualization"
   ]
  },
  {
   "cell_type": "code",
   "execution_count": 91,
   "metadata": {},
   "outputs": [],
   "source": [
    "p=list(set(edf.iloc[:,-1]))\n",
    "l=[]\n",
    "for i in p:\n",
    "    l.append(edf[edf.iloc[:,-1]==i])"
   ]
  },
  {
   "cell_type": "code",
   "execution_count": null,
   "metadata": {},
   "outputs": [],
   "source": []
  },
  {
   "cell_type": "code",
   "execution_count": 92,
   "metadata": {},
   "outputs": [
    {
     "data": {
      "text/plain": [
       "<matplotlib.collections.PathCollection at 0x21827f565b0>"
      ]
     },
     "execution_count": 92,
     "metadata": {},
     "output_type": "execute_result"
    },
    {
     "data": {
      "image/png": "[encoded data removed]",
      "text/plain": [
       "<Figure size 432x288 with 1 Axes>"
      ]
     },
     "metadata": {
      "needs_background": "light"
     },
     "output_type": "display_data"
    }
   ],
   "source": [
    "#plt.subplot(2,2)\n",
    "import seaborn\n",
    "#sns.plot()\n",
    "from sklearn.decomposition import PCA\n",
    "pca = PCA(n_components = 2)\n",
    "v_m= pca.fit_transform(l[3].iloc[:,0:39])\n",
    "plt.scatter(v_m[:,0],v_m[:,1])"
   ]
  },
  {
   "cell_type": "code",
   "execution_count": 93,
   "metadata": {},
   "outputs": [
    {
     "data": {
      "text/plain": [
       "LabelEncoder()"
      ]
     },
     "execution_count": 93,
     "metadata": {},
     "output_type": "execute_result"
    }
   ],
   "source": [
    "from sklearn.preprocessing import LabelEncoder\n",
    "ohe=LabelEncoder()\n",
    "ohe.fit(edf.iloc[:,-1])"
   ]
  },
  {
   "cell_type": "code",
   "execution_count": 94,
   "metadata": {
    "scrolled": true
   },
   "outputs": [],
   "source": [
    "#edf.iloc[:,-1]=ohe.transform(edf.iloc[:,-1])"
   ]
  },
  {
   "cell_type": "code",
   "execution_count": 95,
   "metadata": {},
   "outputs": [
    {
     "data": {
      "text/html": [
       "<div>\n",
       "<style scoped>\n",
       "    .dataframe tbody tr th:only-of-type {\n",
       "        vertical-align: middle;\n",
       "    }\n",
       "\n",
       "    .dataframe tbody tr th {\n",
       "        vertical-align: top;\n",
       "    }\n",
       "\n",
       "    .dataframe thead th {\n",
       "        text-align: right;\n",
       "    }\n",
       "</style>\n",
       "<table border=\"1\" class=\"dataframe\">\n",
       "  <thead>\n",
       "    <tr style=\"text-align: right;\">\n",
       "      <th></th>\n",
       "      <th>0</th>\n",
       "      <th>1</th>\n",
       "      <th>2</th>\n",
       "      <th>3</th>\n",
       "      <th>4</th>\n",
       "      <th>5</th>\n",
       "      <th>6</th>\n",
       "      <th>7</th>\n",
       "      <th>8</th>\n",
       "      <th>9</th>\n",
       "      <th>...</th>\n",
       "      <th>31</th>\n",
       "      <th>32</th>\n",
       "      <th>33</th>\n",
       "      <th>34</th>\n",
       "      <th>35</th>\n",
       "      <th>36</th>\n",
       "      <th>37</th>\n",
       "      <th>38</th>\n",
       "      <th>39</th>\n",
       "      <th>40</th>\n",
       "    </tr>\n",
       "  </thead>\n",
       "  <tbody>\n",
       "    <tr>\n",
       "      <th>0</th>\n",
       "      <td>-206.915649</td>\n",
       "      <td>100.187340</td>\n",
       "      <td>-32.213154</td>\n",
       "      <td>35.693474</td>\n",
       "      <td>-9.092731</td>\n",
       "      <td>16.664572</td>\n",
       "      <td>-5.313095</td>\n",
       "      <td>9.479670</td>\n",
       "      <td>-20.473705</td>\n",
       "      <td>6.460907</td>\n",
       "      <td>...</td>\n",
       "      <td>0.674733</td>\n",
       "      <td>-1.147056</td>\n",
       "      <td>-1.813995</td>\n",
       "      <td>-1.432564</td>\n",
       "      <td>0.856860</td>\n",
       "      <td>0.838472</td>\n",
       "      <td>2.971595</td>\n",
       "      <td>4.306870</td>\n",
       "      <td>3.671580</td>\n",
       "      <td>chiranjeevi original-</td>\n",
       "    </tr>\n",
       "    <tr>\n",
       "      <th>1</th>\n",
       "      <td>-168.503799</td>\n",
       "      <td>92.796013</td>\n",
       "      <td>-43.470993</td>\n",
       "      <td>44.681686</td>\n",
       "      <td>-9.913730</td>\n",
       "      <td>18.575882</td>\n",
       "      <td>-12.464251</td>\n",
       "      <td>16.839586</td>\n",
       "      <td>-20.355118</td>\n",
       "      <td>2.868820</td>\n",
       "      <td>...</td>\n",
       "      <td>3.128470</td>\n",
       "      <td>5.135781</td>\n",
       "      <td>4.589956</td>\n",
       "      <td>2.972625</td>\n",
       "      <td>5.682449</td>\n",
       "      <td>7.099750</td>\n",
       "      <td>6.227372</td>\n",
       "      <td>6.285898</td>\n",
       "      <td>5.299379</td>\n",
       "      <td>chiranjeevi original-</td>\n",
       "    </tr>\n",
       "    <tr>\n",
       "      <th>2</th>\n",
       "      <td>-259.355194</td>\n",
       "      <td>84.782806</td>\n",
       "      <td>-32.544975</td>\n",
       "      <td>34.884106</td>\n",
       "      <td>2.299232</td>\n",
       "      <td>14.806336</td>\n",
       "      <td>-10.628572</td>\n",
       "      <td>3.841967</td>\n",
       "      <td>-21.005394</td>\n",
       "      <td>4.796550</td>\n",
       "      <td>...</td>\n",
       "      <td>0.359363</td>\n",
       "      <td>-1.479052</td>\n",
       "      <td>0.661695</td>\n",
       "      <td>-1.770656</td>\n",
       "      <td>0.823466</td>\n",
       "      <td>-0.450124</td>\n",
       "      <td>0.577029</td>\n",
       "      <td>1.828550</td>\n",
       "      <td>2.666865</td>\n",
       "      <td>chiranjeevi original-</td>\n",
       "    </tr>\n",
       "    <tr>\n",
       "      <th>3</th>\n",
       "      <td>-304.515564</td>\n",
       "      <td>107.515808</td>\n",
       "      <td>-34.179028</td>\n",
       "      <td>29.284449</td>\n",
       "      <td>11.141503</td>\n",
       "      <td>11.212320</td>\n",
       "      <td>-6.000972</td>\n",
       "      <td>7.561637</td>\n",
       "      <td>-19.814968</td>\n",
       "      <td>3.140187</td>\n",
       "      <td>...</td>\n",
       "      <td>1.544027</td>\n",
       "      <td>-0.211164</td>\n",
       "      <td>0.011923</td>\n",
       "      <td>-1.396156</td>\n",
       "      <td>0.286330</td>\n",
       "      <td>-1.139802</td>\n",
       "      <td>-1.681980</td>\n",
       "      <td>0.924567</td>\n",
       "      <td>2.572811</td>\n",
       "      <td>chiranjeevi original-</td>\n",
       "    </tr>\n",
       "    <tr>\n",
       "      <th>4</th>\n",
       "      <td>-261.992157</td>\n",
       "      <td>84.354660</td>\n",
       "      <td>-31.479340</td>\n",
       "      <td>24.127695</td>\n",
       "      <td>-2.888325</td>\n",
       "      <td>11.604282</td>\n",
       "      <td>-7.427988</td>\n",
       "      <td>10.674010</td>\n",
       "      <td>-13.976500</td>\n",
       "      <td>10.212080</td>\n",
       "      <td>...</td>\n",
       "      <td>3.961703</td>\n",
       "      <td>1.596172</td>\n",
       "      <td>4.365419</td>\n",
       "      <td>4.963208</td>\n",
       "      <td>7.788960</td>\n",
       "      <td>6.138669</td>\n",
       "      <td>4.439319</td>\n",
       "      <td>3.514583</td>\n",
       "      <td>3.402252</td>\n",
       "      <td>chiranjeevi original-</td>\n",
       "    </tr>\n",
       "    <tr>\n",
       "      <th>...</th>\n",
       "      <td>...</td>\n",
       "      <td>...</td>\n",
       "      <td>...</td>\n",
       "      <td>...</td>\n",
       "      <td>...</td>\n",
       "      <td>...</td>\n",
       "      <td>...</td>\n",
       "      <td>...</td>\n",
       "      <td>...</td>\n",
       "      <td>...</td>\n",
       "      <td>...</td>\n",
       "      <td>...</td>\n",
       "      <td>...</td>\n",
       "      <td>...</td>\n",
       "      <td>...</td>\n",
       "      <td>...</td>\n",
       "      <td>...</td>\n",
       "      <td>...</td>\n",
       "      <td>...</td>\n",
       "      <td>...</td>\n",
       "      <td>...</td>\n",
       "    </tr>\n",
       "    <tr>\n",
       "      <th>357</th>\n",
       "      <td>-362.921173</td>\n",
       "      <td>155.797058</td>\n",
       "      <td>16.103050</td>\n",
       "      <td>6.414621</td>\n",
       "      <td>12.099456</td>\n",
       "      <td>6.501877</td>\n",
       "      <td>8.527107</td>\n",
       "      <td>-1.071170</td>\n",
       "      <td>6.649951</td>\n",
       "      <td>15.201897</td>\n",
       "      <td>...</td>\n",
       "      <td>-3.749605</td>\n",
       "      <td>-5.082999</td>\n",
       "      <td>-5.294629</td>\n",
       "      <td>-2.664591</td>\n",
       "      <td>-1.787759</td>\n",
       "      <td>-2.276068</td>\n",
       "      <td>-2.999889</td>\n",
       "      <td>-3.122648</td>\n",
       "      <td>0.264279</td>\n",
       "      <td>ANR original-</td>\n",
       "    </tr>\n",
       "    <tr>\n",
       "      <th>358</th>\n",
       "      <td>-343.471130</td>\n",
       "      <td>115.324394</td>\n",
       "      <td>-0.216542</td>\n",
       "      <td>6.235166</td>\n",
       "      <td>5.411654</td>\n",
       "      <td>4.859774</td>\n",
       "      <td>-4.455968</td>\n",
       "      <td>-15.285277</td>\n",
       "      <td>-19.753822</td>\n",
       "      <td>-0.154982</td>\n",
       "      <td>...</td>\n",
       "      <td>2.939217</td>\n",
       "      <td>3.507010</td>\n",
       "      <td>2.976782</td>\n",
       "      <td>-1.104984</td>\n",
       "      <td>-2.105675</td>\n",
       "      <td>-0.276942</td>\n",
       "      <td>-1.666124</td>\n",
       "      <td>-2.847944</td>\n",
       "      <td>1.438521</td>\n",
       "      <td>ANR original-</td>\n",
       "    </tr>\n",
       "    <tr>\n",
       "      <th>359</th>\n",
       "      <td>-336.181641</td>\n",
       "      <td>128.573303</td>\n",
       "      <td>-11.967757</td>\n",
       "      <td>14.180093</td>\n",
       "      <td>4.753082</td>\n",
       "      <td>3.026453</td>\n",
       "      <td>-4.273886</td>\n",
       "      <td>-5.783473</td>\n",
       "      <td>-20.258249</td>\n",
       "      <td>0.234689</td>\n",
       "      <td>...</td>\n",
       "      <td>-0.209548</td>\n",
       "      <td>0.445950</td>\n",
       "      <td>3.123413</td>\n",
       "      <td>2.906052</td>\n",
       "      <td>0.346239</td>\n",
       "      <td>1.462624</td>\n",
       "      <td>4.063566</td>\n",
       "      <td>0.712741</td>\n",
       "      <td>0.854655</td>\n",
       "      <td>ANR original-</td>\n",
       "    </tr>\n",
       "    <tr>\n",
       "      <th>360</th>\n",
       "      <td>-294.176331</td>\n",
       "      <td>124.590332</td>\n",
       "      <td>-9.103840</td>\n",
       "      <td>20.237398</td>\n",
       "      <td>3.123766</td>\n",
       "      <td>7.835172</td>\n",
       "      <td>-9.851385</td>\n",
       "      <td>-5.604244</td>\n",
       "      <td>-24.307436</td>\n",
       "      <td>-0.804645</td>\n",
       "      <td>...</td>\n",
       "      <td>3.970772</td>\n",
       "      <td>0.936355</td>\n",
       "      <td>4.633698</td>\n",
       "      <td>4.619169</td>\n",
       "      <td>0.061919</td>\n",
       "      <td>1.424588</td>\n",
       "      <td>4.577943</td>\n",
       "      <td>2.558877</td>\n",
       "      <td>-0.801049</td>\n",
       "      <td>ANR original-</td>\n",
       "    </tr>\n",
       "    <tr>\n",
       "      <th>361</th>\n",
       "      <td>-353.838806</td>\n",
       "      <td>129.369202</td>\n",
       "      <td>30.520405</td>\n",
       "      <td>11.294154</td>\n",
       "      <td>6.883696</td>\n",
       "      <td>2.558459</td>\n",
       "      <td>2.691134</td>\n",
       "      <td>3.262413</td>\n",
       "      <td>12.822259</td>\n",
       "      <td>4.332840</td>\n",
       "      <td>...</td>\n",
       "      <td>-3.992092</td>\n",
       "      <td>-2.877099</td>\n",
       "      <td>-1.257671</td>\n",
       "      <td>-1.916676</td>\n",
       "      <td>-2.133358</td>\n",
       "      <td>-0.006915</td>\n",
       "      <td>0.702925</td>\n",
       "      <td>-1.655045</td>\n",
       "      <td>-4.370634</td>\n",
       "      <td>ANR original-</td>\n",
       "    </tr>\n",
       "  </tbody>\n",
       "</table>\n",
       "<p>362 rows × 41 columns</p>\n",
       "</div>"
      ],
      "text/plain": [
       "             0           1          2          3          4          5   \\\n",
       "0   -206.915649  100.187340 -32.213154  35.693474  -9.092731  16.664572   \n",
       "1   -168.503799   92.796013 -43.470993  44.681686  -9.913730  18.575882   \n",
       "2   -259.355194   84.782806 -32.544975  34.884106   2.299232  14.806336   \n",
       "3   -304.515564  107.515808 -34.179028  29.284449  11.141503  11.212320   \n",
       "4   -261.992157   84.354660 -31.479340  24.127695  -2.888325  11.604282   \n",
       "..          ...         ...        ...        ...        ...        ...   \n",
       "357 -362.921173  155.797058  16.103050   6.414621  12.099456   6.501877   \n",
       "358 -343.471130  115.324394  -0.216542   6.235166   5.411654   4.859774   \n",
       "359 -336.181641  128.573303 -11.967757  14.180093   4.753082   3.026453   \n",
       "360 -294.176331  124.590332  -9.103840  20.237398   3.123766   7.835172   \n",
       "361 -353.838806  129.369202  30.520405  11.294154   6.883696   2.558459   \n",
       "\n",
       "            6          7          8          9   ...        31        32  \\\n",
       "0    -5.313095   9.479670 -20.473705   6.460907  ...  0.674733 -1.147056   \n",
       "1   -12.464251  16.839586 -20.355118   2.868820  ...  3.128470  5.135781   \n",
       "2   -10.628572   3.841967 -21.005394   4.796550  ...  0.359363 -1.479052   \n",
       "3    -6.000972   7.561637 -19.814968   3.140187  ...  1.544027 -0.211164   \n",
       "4    -7.427988  10.674010 -13.976500  10.212080  ...  3.961703  1.596172   \n",
       "..         ...        ...        ...        ...  ...       ...       ...   \n",
       "357   8.527107  -1.071170   6.649951  15.201897  ... -3.749605 -5.082999   \n",
       "358  -4.455968 -15.285277 -19.753822  -0.154982  ...  2.939217  3.507010   \n",
       "359  -4.273886  -5.783473 -20.258249   0.234689  ... -0.209548  0.445950   \n",
       "360  -9.851385  -5.604244 -24.307436  -0.804645  ...  3.970772  0.936355   \n",
       "361   2.691134   3.262413  12.822259   4.332840  ... -3.992092 -2.877099   \n",
       "\n",
       "           33        34        35        36        37        38        39  \\\n",
       "0   -1.813995 -1.432564  0.856860  0.838472  2.971595  4.306870  3.671580   \n",
       "1    4.589956  2.972625  5.682449  7.099750  6.227372  6.285898  5.299379   \n",
       "2    0.661695 -1.770656  0.823466 -0.450124  0.577029  1.828550  2.666865   \n",
       "3    0.011923 -1.396156  0.286330 -1.139802 -1.681980  0.924567  2.572811   \n",
       "4    4.365419  4.963208  7.788960  6.138669  4.439319  3.514583  3.402252   \n",
       "..        ...       ...       ...       ...       ...       ...       ...   \n",
       "357 -5.294629 -2.664591 -1.787759 -2.276068 -2.999889 -3.122648  0.264279   \n",
       "358  2.976782 -1.104984 -2.105675 -0.276942 -1.666124 -2.847944  1.438521   \n",
       "359  3.123413  2.906052  0.346239  1.462624  4.063566  0.712741  0.854655   \n",
       "360  4.633698  4.619169  0.061919  1.424588  4.577943  2.558877 -0.801049   \n",
       "361 -1.257671 -1.916676 -2.133358 -0.006915  0.702925 -1.655045 -4.370634   \n",
       "\n",
       "                        40  \n",
       "0    chiranjeevi original-  \n",
       "1    chiranjeevi original-  \n",
       "2    chiranjeevi original-  \n",
       "3    chiranjeevi original-  \n",
       "4    chiranjeevi original-  \n",
       "..                     ...  \n",
       "357          ANR original-  \n",
       "358          ANR original-  \n",
       "359          ANR original-  \n",
       "360          ANR original-  \n",
       "361          ANR original-  \n",
       "\n",
       "[362 rows x 41 columns]"
      ]
     },
     "execution_count": 95,
     "metadata": {},
     "output_type": "execute_result"
    }
   ],
   "source": [
    "edf"
   ]
  },
  {
   "cell_type": "markdown",
   "metadata": {},
   "source": [
    "##preprocessing"
   ]
  },
  {
   "cell_type": "code",
   "execution_count": 96,
   "metadata": {},
   "outputs": [],
   "source": [
    "x_train, x_test, y_train,y_test =train_test_split(edf.iloc[:,0:40],edf[40])"
   ]
  },
  {
   "cell_type": "code",
   "execution_count": 97,
   "metadata": {},
   "outputs": [],
   "source": [
    "from sklearn.decomposition import PCA\n",
    "pca = PCA(n_components = 2)\n",
    "X2D_t= pca.fit_transform(x_test)"
   ]
  },
  {
   "cell_type": "code",
   "execution_count": 98,
   "metadata": {},
   "outputs": [],
   "source": [
    "X2D_t= pca.fit_transform(x_test)"
   ]
  },
  {
   "cell_type": "code",
   "execution_count": null,
   "metadata": {},
   "outputs": [],
   "source": []
  },
  {
   "cell_type": "code",
   "execution_count": 99,
   "metadata": {},
   "outputs": [
    {
     "data": {
      "text/html": [
       "<div>\n",
       "<style scoped>\n",
       "    .dataframe tbody tr th:only-of-type {\n",
       "        vertical-align: middle;\n",
       "    }\n",
       "\n",
       "    .dataframe tbody tr th {\n",
       "        vertical-align: top;\n",
       "    }\n",
       "\n",
       "    .dataframe thead th {\n",
       "        text-align: right;\n",
       "    }\n",
       "</style>\n",
       "<table border=\"1\" class=\"dataframe\">\n",
       "  <thead>\n",
       "    <tr style=\"text-align: right;\">\n",
       "      <th></th>\n",
       "      <th>0</th>\n",
       "      <th>1</th>\n",
       "      <th>2</th>\n",
       "      <th>3</th>\n",
       "      <th>4</th>\n",
       "      <th>5</th>\n",
       "      <th>6</th>\n",
       "      <th>7</th>\n",
       "      <th>8</th>\n",
       "      <th>9</th>\n",
       "      <th>...</th>\n",
       "      <th>30</th>\n",
       "      <th>31</th>\n",
       "      <th>32</th>\n",
       "      <th>33</th>\n",
       "      <th>34</th>\n",
       "      <th>35</th>\n",
       "      <th>36</th>\n",
       "      <th>37</th>\n",
       "      <th>38</th>\n",
       "      <th>39</th>\n",
       "    </tr>\n",
       "  </thead>\n",
       "  <tbody>\n",
       "    <tr>\n",
       "      <th>262</th>\n",
       "      <td>-185.500824</td>\n",
       "      <td>104.498375</td>\n",
       "      <td>-30.875931</td>\n",
       "      <td>4.555256</td>\n",
       "      <td>-22.144226</td>\n",
       "      <td>-7.437440</td>\n",
       "      <td>-22.227219</td>\n",
       "      <td>-3.310978</td>\n",
       "      <td>-30.987427</td>\n",
       "      <td>-3.250457</td>\n",
       "      <td>...</td>\n",
       "      <td>7.883408</td>\n",
       "      <td>4.868239</td>\n",
       "      <td>0.366500</td>\n",
       "      <td>-0.365482</td>\n",
       "      <td>-0.617199</td>\n",
       "      <td>0.976343</td>\n",
       "      <td>0.943835</td>\n",
       "      <td>3.091412</td>\n",
       "      <td>1.242622</td>\n",
       "      <td>1.108209</td>\n",
       "    </tr>\n",
       "    <tr>\n",
       "      <th>156</th>\n",
       "      <td>-269.151917</td>\n",
       "      <td>86.059624</td>\n",
       "      <td>-28.652393</td>\n",
       "      <td>35.491375</td>\n",
       "      <td>-15.656141</td>\n",
       "      <td>-11.765816</td>\n",
       "      <td>-26.931187</td>\n",
       "      <td>3.062216</td>\n",
       "      <td>-34.695362</td>\n",
       "      <td>3.095723</td>\n",
       "      <td>...</td>\n",
       "      <td>0.909776</td>\n",
       "      <td>-0.857167</td>\n",
       "      <td>0.303303</td>\n",
       "      <td>1.183007</td>\n",
       "      <td>5.138915</td>\n",
       "      <td>1.887328</td>\n",
       "      <td>1.765002</td>\n",
       "      <td>1.802825</td>\n",
       "      <td>1.041089</td>\n",
       "      <td>1.966136</td>\n",
       "    </tr>\n",
       "    <tr>\n",
       "      <th>180</th>\n",
       "      <td>-273.668304</td>\n",
       "      <td>159.214386</td>\n",
       "      <td>-18.523018</td>\n",
       "      <td>24.908663</td>\n",
       "      <td>1.759204</td>\n",
       "      <td>4.496087</td>\n",
       "      <td>-17.405178</td>\n",
       "      <td>-5.299872</td>\n",
       "      <td>3.828144</td>\n",
       "      <td>-15.175689</td>\n",
       "      <td>...</td>\n",
       "      <td>1.119159</td>\n",
       "      <td>0.410479</td>\n",
       "      <td>1.351987</td>\n",
       "      <td>1.780396</td>\n",
       "      <td>-0.437551</td>\n",
       "      <td>0.631773</td>\n",
       "      <td>0.181497</td>\n",
       "      <td>1.265345</td>\n",
       "      <td>-0.123939</td>\n",
       "      <td>-1.745784</td>\n",
       "    </tr>\n",
       "    <tr>\n",
       "      <th>129</th>\n",
       "      <td>-227.671204</td>\n",
       "      <td>113.992546</td>\n",
       "      <td>0.092490</td>\n",
       "      <td>14.672668</td>\n",
       "      <td>0.350533</td>\n",
       "      <td>-12.107994</td>\n",
       "      <td>-15.731487</td>\n",
       "      <td>1.825028</td>\n",
       "      <td>-25.883276</td>\n",
       "      <td>2.503587</td>\n",
       "      <td>...</td>\n",
       "      <td>-1.667358</td>\n",
       "      <td>1.699728</td>\n",
       "      <td>1.593057</td>\n",
       "      <td>0.596804</td>\n",
       "      <td>0.723403</td>\n",
       "      <td>-1.820745</td>\n",
       "      <td>-2.416632</td>\n",
       "      <td>-0.695350</td>\n",
       "      <td>0.888916</td>\n",
       "      <td>0.756162</td>\n",
       "    </tr>\n",
       "    <tr>\n",
       "      <th>25</th>\n",
       "      <td>-288.937958</td>\n",
       "      <td>145.690659</td>\n",
       "      <td>-18.082767</td>\n",
       "      <td>22.953323</td>\n",
       "      <td>-1.656983</td>\n",
       "      <td>-4.571087</td>\n",
       "      <td>-7.499184</td>\n",
       "      <td>-8.145245</td>\n",
       "      <td>-23.856777</td>\n",
       "      <td>-4.718375</td>\n",
       "      <td>...</td>\n",
       "      <td>-0.184605</td>\n",
       "      <td>2.406788</td>\n",
       "      <td>2.234810</td>\n",
       "      <td>1.479360</td>\n",
       "      <td>0.017972</td>\n",
       "      <td>-0.991378</td>\n",
       "      <td>-2.294459</td>\n",
       "      <td>-1.589784</td>\n",
       "      <td>-2.549996</td>\n",
       "      <td>-2.379057</td>\n",
       "    </tr>\n",
       "    <tr>\n",
       "      <th>...</th>\n",
       "      <td>...</td>\n",
       "      <td>...</td>\n",
       "      <td>...</td>\n",
       "      <td>...</td>\n",
       "      <td>...</td>\n",
       "      <td>...</td>\n",
       "      <td>...</td>\n",
       "      <td>...</td>\n",
       "      <td>...</td>\n",
       "      <td>...</td>\n",
       "      <td>...</td>\n",
       "      <td>...</td>\n",
       "      <td>...</td>\n",
       "      <td>...</td>\n",
       "      <td>...</td>\n",
       "      <td>...</td>\n",
       "      <td>...</td>\n",
       "      <td>...</td>\n",
       "      <td>...</td>\n",
       "      <td>...</td>\n",
       "      <td>...</td>\n",
       "    </tr>\n",
       "    <tr>\n",
       "      <th>5</th>\n",
       "      <td>-317.934418</td>\n",
       "      <td>131.395447</td>\n",
       "      <td>-14.324621</td>\n",
       "      <td>22.753757</td>\n",
       "      <td>-5.169916</td>\n",
       "      <td>-0.202610</td>\n",
       "      <td>-10.913395</td>\n",
       "      <td>-10.384647</td>\n",
       "      <td>-17.366268</td>\n",
       "      <td>-7.436780</td>\n",
       "      <td>...</td>\n",
       "      <td>1.296396</td>\n",
       "      <td>0.927855</td>\n",
       "      <td>4.781917</td>\n",
       "      <td>1.344617</td>\n",
       "      <td>-0.163965</td>\n",
       "      <td>0.178322</td>\n",
       "      <td>-1.718946</td>\n",
       "      <td>-1.349292</td>\n",
       "      <td>-2.145913</td>\n",
       "      <td>-1.135999</td>\n",
       "    </tr>\n",
       "    <tr>\n",
       "      <th>336</th>\n",
       "      <td>-338.320557</td>\n",
       "      <td>129.321793</td>\n",
       "      <td>3.702276</td>\n",
       "      <td>13.005278</td>\n",
       "      <td>5.637084</td>\n",
       "      <td>6.945536</td>\n",
       "      <td>6.456528</td>\n",
       "      <td>7.179736</td>\n",
       "      <td>-3.749597</td>\n",
       "      <td>-16.154877</td>\n",
       "      <td>...</td>\n",
       "      <td>-3.345630</td>\n",
       "      <td>0.444857</td>\n",
       "      <td>1.926319</td>\n",
       "      <td>0.563057</td>\n",
       "      <td>0.163643</td>\n",
       "      <td>-0.284260</td>\n",
       "      <td>-1.448740</td>\n",
       "      <td>-2.185295</td>\n",
       "      <td>2.138266</td>\n",
       "      <td>4.196628</td>\n",
       "    </tr>\n",
       "    <tr>\n",
       "      <th>344</th>\n",
       "      <td>-358.654114</td>\n",
       "      <td>158.051224</td>\n",
       "      <td>20.354168</td>\n",
       "      <td>17.369867</td>\n",
       "      <td>14.680462</td>\n",
       "      <td>5.595888</td>\n",
       "      <td>11.167434</td>\n",
       "      <td>1.127931</td>\n",
       "      <td>6.672021</td>\n",
       "      <td>11.248996</td>\n",
       "      <td>...</td>\n",
       "      <td>-3.212425</td>\n",
       "      <td>-4.743728</td>\n",
       "      <td>-4.669108</td>\n",
       "      <td>-2.595630</td>\n",
       "      <td>-1.928156</td>\n",
       "      <td>-2.393522</td>\n",
       "      <td>-2.682274</td>\n",
       "      <td>-2.818860</td>\n",
       "      <td>-0.190114</td>\n",
       "      <td>0.500800</td>\n",
       "    </tr>\n",
       "    <tr>\n",
       "      <th>139</th>\n",
       "      <td>-206.114105</td>\n",
       "      <td>143.238556</td>\n",
       "      <td>7.468771</td>\n",
       "      <td>20.738844</td>\n",
       "      <td>-21.971577</td>\n",
       "      <td>3.188496</td>\n",
       "      <td>-13.763108</td>\n",
       "      <td>3.712608</td>\n",
       "      <td>-6.469021</td>\n",
       "      <td>-5.283315</td>\n",
       "      <td>...</td>\n",
       "      <td>0.058955</td>\n",
       "      <td>0.513538</td>\n",
       "      <td>-0.656432</td>\n",
       "      <td>0.975710</td>\n",
       "      <td>0.876507</td>\n",
       "      <td>1.014392</td>\n",
       "      <td>-1.092384</td>\n",
       "      <td>0.387873</td>\n",
       "      <td>0.241607</td>\n",
       "      <td>0.753638</td>\n",
       "    </tr>\n",
       "    <tr>\n",
       "      <th>328</th>\n",
       "      <td>-382.251129</td>\n",
       "      <td>125.208427</td>\n",
       "      <td>6.323966</td>\n",
       "      <td>6.751338</td>\n",
       "      <td>8.576274</td>\n",
       "      <td>8.856343</td>\n",
       "      <td>4.255610</td>\n",
       "      <td>3.464804</td>\n",
       "      <td>-8.997131</td>\n",
       "      <td>-8.200226</td>\n",
       "      <td>...</td>\n",
       "      <td>-0.417078</td>\n",
       "      <td>-0.889458</td>\n",
       "      <td>-3.382857</td>\n",
       "      <td>-4.816121</td>\n",
       "      <td>-5.017547</td>\n",
       "      <td>-3.424420</td>\n",
       "      <td>1.869333</td>\n",
       "      <td>3.932210</td>\n",
       "      <td>-0.366368</td>\n",
       "      <td>-1.138174</td>\n",
       "    </tr>\n",
       "  </tbody>\n",
       "</table>\n",
       "<p>271 rows × 40 columns</p>\n",
       "</div>"
      ],
      "text/plain": [
       "             0           1          2          3          4          5   \\\n",
       "262 -185.500824  104.498375 -30.875931   4.555256 -22.144226  -7.437440   \n",
       "156 -269.151917   86.059624 -28.652393  35.491375 -15.656141 -11.765816   \n",
       "180 -273.668304  159.214386 -18.523018  24.908663   1.759204   4.496087   \n",
       "129 -227.671204  113.992546   0.092490  14.672668   0.350533 -12.107994   \n",
       "25  -288.937958  145.690659 -18.082767  22.953323  -1.656983  -4.571087   \n",
       "..          ...         ...        ...        ...        ...        ...   \n",
       "5   -317.934418  131.395447 -14.324621  22.753757  -5.169916  -0.202610   \n",
       "336 -338.320557  129.321793   3.702276  13.005278   5.637084   6.945536   \n",
       "344 -358.654114  158.051224  20.354168  17.369867  14.680462   5.595888   \n",
       "139 -206.114105  143.238556   7.468771  20.738844 -21.971577   3.188496   \n",
       "328 -382.251129  125.208427   6.323966   6.751338   8.576274   8.856343   \n",
       "\n",
       "            6          7          8          9   ...        30        31  \\\n",
       "262 -22.227219  -3.310978 -30.987427  -3.250457  ...  7.883408  4.868239   \n",
       "156 -26.931187   3.062216 -34.695362   3.095723  ...  0.909776 -0.857167   \n",
       "180 -17.405178  -5.299872   3.828144 -15.175689  ...  1.119159  0.410479   \n",
       "129 -15.731487   1.825028 -25.883276   2.503587  ... -1.667358  1.699728   \n",
       "25   -7.499184  -8.145245 -23.856777  -4.718375  ... -0.184605  2.406788   \n",
       "..         ...        ...        ...        ...  ...       ...       ...   \n",
       "5   -10.913395 -10.384647 -17.366268  -7.436780  ...  1.296396  0.927855   \n",
       "336   6.456528   7.179736  -3.749597 -16.154877  ... -3.345630  0.444857   \n",
       "344  11.167434   1.127931   6.672021  11.248996  ... -3.212425 -4.743728   \n",
       "139 -13.763108   3.712608  -6.469021  -5.283315  ...  0.058955  0.513538   \n",
       "328   4.255610   3.464804  -8.997131  -8.200226  ... -0.417078 -0.889458   \n",
       "\n",
       "           32        33        34        35        36        37        38  \\\n",
       "262  0.366500 -0.365482 -0.617199  0.976343  0.943835  3.091412  1.242622   \n",
       "156  0.303303  1.183007  5.138915  1.887328  1.765002  1.802825  1.041089   \n",
       "180  1.351987  1.780396 -0.437551  0.631773  0.181497  1.265345 -0.123939   \n",
       "129  1.593057  0.596804  0.723403 -1.820745 -2.416632 -0.695350  0.888916   \n",
       "25   2.234810  1.479360  0.017972 -0.991378 -2.294459 -1.589784 -2.549996   \n",
       "..        ...       ...       ...       ...       ...       ...       ...   \n",
       "5    4.781917  1.344617 -0.163965  0.178322 -1.718946 -1.349292 -2.145913   \n",
       "336  1.926319  0.563057  0.163643 -0.284260 -1.448740 -2.185295  2.138266   \n",
       "344 -4.669108 -2.595630 -1.928156 -2.393522 -2.682274 -2.818860 -0.190114   \n",
       "139 -0.656432  0.975710  0.876507  1.014392 -1.092384  0.387873  0.241607   \n",
       "328 -3.382857 -4.816121 -5.017547 -3.424420  1.869333  3.932210 -0.366368   \n",
       "\n",
       "           39  \n",
       "262  1.108209  \n",
       "156  1.966136  \n",
       "180 -1.745784  \n",
       "129  0.756162  \n",
       "25  -2.379057  \n",
       "..        ...  \n",
       "5   -1.135999  \n",
       "336  4.196628  \n",
       "344  0.500800  \n",
       "139  0.753638  \n",
       "328 -1.138174  \n",
       "\n",
       "[271 rows x 40 columns]"
      ]
     },
     "execution_count": 99,
     "metadata": {},
     "output_type": "execute_result"
    }
   ],
   "source": [
    "x_train"
   ]
  },
  {
   "cell_type": "markdown",
   "metadata": {},
   "source": [
    "# svm"
   ]
  },
  {
   "cell_type": "code",
   "execution_count": 113,
   "metadata": {
    "scrolled": true
   },
   "outputs": [
    {
     "name": "stdout",
     "output_type": "stream",
     "text": [
      "Accuracy:0.868132\n"
     ]
    },
    {
     "data": {
      "text/plain": [
       "<matplotlib.collections.PathCollection at 0x21826a21d60>"
      ]
     },
     "execution_count": 113,
     "metadata": {},
     "output_type": "execute_result"
    },
    {
     "data": {
      "image/png": "[encoded data removed]",
      "text/plain": [
       "<Figure size 432x288 with 1 Axes>"
      ]
     },
     "metadata": {
      "needs_background": "light"
     },
     "output_type": "display_data"
    }
   ],
   "source": [
    "from sklearn import svm\n",
    "clf = svm.SVC(kernel=\"poly\", degree=3,coef0=13,  C=4)\n",
    "clf.fit(x_train, y_train)\n",
    "y_pred=clf.predict(x_test)\n",
    "score = metrics.accuracy_score(y_test,y_pred)\n",
    "print('Accuracy:{0:f}'.format(score))\n",
    "ohe.fit(y_pred)\n",
    "p=ohe.transform(y_pred)\n",
    "plt.scatter(X2D_t[:, 0], X2D_t[:, 1], c=p)"
   ]
  },
  {
   "cell_type": "code",
   "execution_count": 114,
   "metadata": {},
   "outputs": [
    {
     "data": {
      "text/plain": [
       "array([0.78947368, 0.96153846, 0.95081967, 0.64516129])"
      ]
     },
     "execution_count": 114,
     "metadata": {},
     "output_type": "execute_result"
    }
   ],
   "source": [
    "from sklearn.metrics import f1_score\n",
    "f1_score(y_test, y_pred, average=None)"
   ]
  },
  {
   "cell_type": "code",
   "execution_count": null,
   "metadata": {},
   "outputs": [],
   "source": []
  },
  {
   "cell_type": "code",
   "execution_count": 102,
   "metadata": {},
   "outputs": [
    {
     "data": {
      "image/png": "[encoded data removed]",
      "text/plain": [
       "<Figure size 432x288 with 2 Axes>"
      ]
     },
     "metadata": {
      "needs_background": "light"
     },
     "output_type": "display_data"
    }
   ],
   "source": [
    "from sklearn.metrics import plot_confusion_matrix\n",
    "plot_confusion_matrix(clf, x_test,y_test)  \n",
    "plt.show()"
   ]
  },
  {
   "cell_type": "code",
   "execution_count": null,
   "metadata": {},
   "outputs": [],
   "source": []
  },
  {
   "cell_type": "code",
   "execution_count": null,
   "metadata": {},
   "outputs": [],
   "source": []
  },
  {
   "cell_type": "markdown",
   "metadata": {},
   "source": [
    "# KNeighborsClassifier"
   ]
  },
  {
   "cell_type": "code",
   "execution_count": 119,
   "metadata": {},
   "outputs": [
    {
     "name": "stdout",
     "output_type": "stream",
     "text": [
      "Accuracy:0.714286\n"
     ]
    },
    {
     "data": {
      "image/png": "[encoded data removed]",
      "text/plain": [
       "<Figure size 432x288 with 1 Axes>"
      ]
     },
     "metadata": {
      "needs_background": "light"
     },
     "output_type": "display_data"
    }
   ],
   "source": [
    "from sklearn.neighbors import KNeighborsClassifier\n",
    "classifier = KNeighborsClassifier(n_neighbors=20)\n",
    "classifier.fit(x_train, y_train)\n",
    "y_pred = classifier.predict(x_test)\n",
    "p=ohe.transform(y_pred)\n",
    "score = metrics.accuracy_score(y_test,y_pred)\n",
    "print('Accuracy:{0:f}'.format(score))\n",
    "plt.scatter(X2D_t[:, 0], X2D_t[:, 1], c=p);"
   ]
  },
  {
   "cell_type": "code",
   "execution_count": 120,
   "metadata": {},
   "outputs": [
    {
     "data": {
      "text/plain": [
       "array([0.81818182, 0.65625   , 0.69047619, 1.        ])"
      ]
     },
     "execution_count": 120,
     "metadata": {},
     "output_type": "execute_result"
    }
   ],
   "source": [
    "from sklearn.metrics import precision_score\n",
    "precision_score(y_test, y_pred, average=None)"
   ]
  },
  {
   "cell_type": "code",
   "execution_count": 121,
   "metadata": {},
   "outputs": [
    {
     "data": {
      "image/png": "[encoded data removed]",
      "text/plain": [
       "<Figure size 432x288 with 2 Axes>"
      ]
     },
     "metadata": {
      "needs_background": "light"
     },
     "output_type": "display_data"
    }
   ],
   "source": [
    "from sklearn.metrics import plot_confusion_matrix\n",
    "plot_confusion_matrix(classifier, x_test, y_test)  \n",
    "plt.show()"
   ]
  },
  {
   "cell_type": "code",
   "execution_count": 122,
   "metadata": {},
   "outputs": [
    {
     "data": {
      "text/plain": [
       "array([0.81818182, 0.65625   , 0.69047619, 1.        ])"
      ]
     },
     "execution_count": 122,
     "metadata": {},
     "output_type": "execute_result"
    }
   ],
   "source": [
    "from sklearn.metrics import precision_score\n",
    "precision_score(y_test, y_pred, average=None)"
   ]
  },
  {
   "cell_type": "markdown",
   "metadata": {},
   "source": [
    "# Decision Tree\n"
   ]
  },
  {
   "cell_type": "code",
   "execution_count": 123,
   "metadata": {},
   "outputs": [
    {
     "name": "stdout",
     "output_type": "stream",
     "text": [
      "Accuracy:0.769231\n"
     ]
    },
    {
     "data": {
      "image/png": "[encoded data removed]",
      "text/plain": [
       "<Figure size 432x288 with 1 Axes>"
      ]
     },
     "metadata": {
      "needs_background": "light"
     },
     "output_type": "display_data"
    },
    {
     "data": {
      "image/png": "[encoded data removed]",
      "text/plain": [
       "<Figure size 432x288 with 2 Axes>"
      ]
     },
     "metadata": {
      "needs_background": "light"
     },
     "output_type": "display_data"
    }
   ],
   "source": [
    "from sklearn import tree\n",
    "clf = tree.DecisionTreeClassifier()\n",
    "D_clf = clf.fit(x_train, y_train)\n",
    "y_pred=clf.predict(x_test)\n",
    "p=ohe.transform(y_pred)\n",
    "score = metrics.accuracy_score(y_test,y_pred)\n",
    "print('Accuracy:{0:f}'.format(score))\n",
    "plt.scatter(X2D_t[:, 0], X2D_t[:, 1], c=p)\n",
    "plot_confusion_matrix(D_clf, x_test, y_test)  \n",
    "plt.show()"
   ]
  },
  {
   "cell_type": "code",
   "execution_count": 124,
   "metadata": {},
   "outputs": [
    {
     "data": {
      "text/plain": [
       "array([0.71428571, 0.88888889, 0.71052632, 0.75      ])"
      ]
     },
     "execution_count": 124,
     "metadata": {},
     "output_type": "execute_result"
    }
   ],
   "source": [
    "from sklearn.metrics import precision_score\n",
    "precision_score(y_test, y_pred, average=None)"
   ]
  },
  {
   "cell_type": "code",
   "execution_count": 36,
   "metadata": {},
   "outputs": [],
   "source": [
    "import speech_recognition as sr #pip install speechRecognition\n",
    "def initialrecording():\n",
    "    with sr.Microphone() as source:\n",
    "        print(\"Listening...\\n\")\n",
    "        print(\"speak .. something ...\\n\")\n",
    "        r.pause_threshold = 1\n",
    "        audio = r.listen(source)\n",
    "        path =str(x.iloc[i,1])+ str(\"\\\\\")+ str(x.iloc[i,0]) # required path\n",
    "        f= open(path,\"w+\")\n",
    "        sf.write(path, augmented_signal, sr)\n",
    "    try:\n",
    "        print(\"Recognizing...\")\n",
    "        directory = \"new\"\n",
    "        parent_dir = \"F:\\\\project\"\n",
    "        path = os.path.join(parent_dir, directory)\n",
    "        os.mkdir(path)\n",
    "        split_wav = SplitWavAudioMubin(path, file)\n",
    "        split_wav.multiple_split(min_per_split=0.2)\n",
    "    except Exception as e:\n",
    "        # print(e)    \n",
    "        print(\"Say that again please...\")  \n",
    "        return \"None\"\n",
    "    "
   ]
  },
  {
   "cell_type": "code",
   "execution_count": 37,
   "metadata": {},
   "outputs": [],
   "source": [
    "def recording(audio):\n",
    "        mfccs_features = librosa.feature.mfcc(y=audio, sr=sample_rate, n_mfcc=40)\n",
    "        mfccs_scaled_features = np.mean(mfccs_features.T,axis=0)\n",
    "        print(clf.predict(mfccs_scaled_features))\n",
    "        speak(str(clf.predict(mfccs_scaled_features)))"
   ]
  },
  {
   "cell_type": "code",
   "execution_count": 38,
   "metadata": {},
   "outputs": [],
   "source": [
    "from pydub import AudioSegment\n",
    "import math\n",
    "\n",
    "class SplitWavAudioMubin():\n",
    "    def __init__(self, folder, filename):\n",
    "        self.folder = folder\n",
    "        self.filename = filename\n",
    "        self.filepath = folder + '\\\\' + filename\n",
    "        \n",
    "        self.audio = AudioSegment.from_wav(self.filepath)\n",
    "    \n",
    "    def get_duration(self):\n",
    "        return self.audio.duration_seconds\n",
    "    \n",
    "    def single_split(self, from_min, to_min, split_filename):\n",
    "        t1 = from_min * 60 * 1000\n",
    "        t2 = to_min * 60 * 1000\n",
    "        split_audio = self.audio[t1:t2]\n",
    "        split_audio.export(self.folder + '\\\\' + split_filename, format=\"wav\")\n",
    "        \n",
    "    def multiple_split(self, min_per_split):\n",
    "        total_mins = math.ceil(self.get_duration() / 60)\n",
    "        for i in range(0, total_mins, min_per_split):\n",
    "            split_fn = str(i) + '_' + self.filename\n",
    "            self.single_split(i, i+min_per_split, split_fn)\n",
    "            print(str(i) + ' Done')\n",
    "            if i == total_mins - min_per_split:\n",
    "                print('All splited successfully')"
   ]
  },
  {
   "cell_type": "code",
   "execution_count": 40,
   "metadata": {},
   "outputs": [],
   "source": [
    "#edf.to_csv(r'F:\\project\\my_data.csv', index=False)"
   ]
  },
  {
   "cell_type": "code",
   "execution_count": null,
   "metadata": {},
   "outputs": [],
   "source": []
  },
  {
   "cell_type": "code",
   "execution_count": null,
   "metadata": {},
   "outputs": [],
   "source": []
  },
  {
   "cell_type": "code",
   "execution_count": null,
   "metadata": {},
   "outputs": [],
   "source": []
  },
  {
   "cell_type": "markdown",
   "metadata": {},
   "source": [
    "#1Testing the model"
   ]
  },
  {
   "cell_type": "code",
   "execution_count": 70,
   "metadata": {},
   "outputs": [
    {
     "data": {
      "text/plain": [
       "array(['chiranjeevi original-'], dtype=object)"
      ]
     },
     "execution_count": 70,
     "metadata": {},
     "output_type": "execute_result"
    }
   ],
   "source": [
    "input_path=\"F:\\project\\chiranjeevi original\\chiranjeevi original-10.wav\"\n",
    "audio, sample_rate=librosa.load(input_path)\n",
    "mfccs_features = librosa.feature.mfcc(y=audio, sr=sample_rate, n_mfcc=40)\n",
    "mfccs_scaled_features = np.mean(mfccs_features.T,axis=0)\n",
    "l=[mfccs_scaled_features]\n",
    "clf.predict(l)"
   ]
  },
  {
   "cell_type": "code",
   "execution_count": null,
   "metadata": {},
   "outputs": [],
   "source": []
  },
  {
   "cell_type": "code",
   "execution_count": null,
   "metadata": {},
   "outputs": [],
   "source": []
  },
  {
   "cell_type": "code",
   "execution_count": null,
   "metadata": {},
   "outputs": [],
   "source": []
  },
  {
   "cell_type": "code",
   "execution_count": null,
   "metadata": {},
   "outputs": [],
   "source": []
  },
  {
   "cell_type": "code",
   "execution_count": null,
   "metadata": {},
   "outputs": [],
   "source": []
  },
  {
   "cell_type": "code",
   "execution_count": 145,
   "metadata": {},
   "outputs": [
    {
     "name": "stdout",
     "output_type": "stream",
     "text": [
      "accuracy SVM in 0 fold  is 0.8082191780821918:\n",
      "accuracy SVM in 1 fold  is 0.8904109589041096:\n",
      "accuracy SVM in 2 fold  is 0.6805555555555556:\n",
      "accuracy SVM in 3 fold  is 0.8194444444444444:\n",
      "accuracy SVM in 4 fold  is 0.7083333333333334:\n"
     ]
    }
   ],
   "source": [
    "import numpy as np\n",
    "from sklearn.model_selection import StratifiedKFold\n",
    "skf = StratifiedKFold(n_splits=5)\n",
    "\n",
    "skf.get_n_splits(edf.iloc[:,0:40], edf.iloc[:,-1])\n",
    "y1=[]\n",
    "for i,j in skf.split(edf.iloc[:,0:40],edf.iloc[:,-1]):\n",
    "    x_traink=edf.iloc[i,0:40]\n",
    "    y_traink=edf.iloc[i,-1]\n",
    "    x_testk=edf.iloc[j,0:40]\n",
    "    y_testk=edf.iloc[j,-1]\n",
    "    from sklearn import svm\n",
    "    clf = svm.SVC(kernel=\"poly\", degree=3,  C=4)\n",
    "    clf.fit(x_traink, y_traink)\n",
    "    y_predk=clf.predict(x_testk)\n",
    "    score = metrics.accuracy_score(y_testk,y_predk)\n",
    "    y1.append(score)\n",
    "    \n",
    "for i in range(len(y1)):\n",
    "    print(\"accuracy SVM in {} fold  is {}:\".format(i,y1[i]))\n",
    "    \n",
    "    "
   ]
  },
  {
   "cell_type": "code",
   "execution_count": 156,
   "metadata": {},
   "outputs": [
    {
     "name": "stdout",
     "output_type": "stream",
     "text": [
      "accuracy of Decission Tree in 1 fold  is: 0.7945205479452054\n",
      "accuracy of Decission Tree in 2 fold  is: 0.9041095890410958\n",
      "accuracy of Decission Tree in 3 fold  is: 0.6666666666666666\n",
      "accuracy of Decission Tree in 4 fold  is: 0.6527777777777778\n",
      "accuracy of Decission Tree in 5 fold  is: 0.6944444444444444\n"
     ]
    }
   ],
   "source": [
    "import numpy as np\n",
    "from sklearn.model_selection import StratifiedKFold\n",
    "skf = StratifiedKFold(n_splits=5)\n",
    "\n",
    "skf.get_n_splits(edf.iloc[:,0:40], edf.iloc[:,-1])\n",
    "y2=[]\n",
    "for i,j in skf.split(edf.iloc[:,0:40],edf.iloc[:,-1]):\n",
    "    x_traink=edf.iloc[i,0:40]\n",
    "    y_traink=edf.iloc[i,-1]\n",
    "    x_testk=edf.iloc[j,0:40]\n",
    "    y_testk=edf.iloc[j,-1]\n",
    "    from sklearn import tree\n",
    "    D_clf = tree.DecisionTreeClassifier()\n",
    "    D_clf.fit(x_traink, y_traink)\n",
    "    y_predk=D_clf.predict(x_testk)\n",
    "    score = metrics.accuracy_score(y_testk,y_predk)\n",
    "    y2.append(score)\n",
    "for i in range(len(y2)):\n",
    "    print(\"accuracy of Decission Tree in {} fold  is: {}\".format(i+1,y2[i]))\n",
    "    \n",
    "    "
   ]
  },
  {
   "cell_type": "code",
   "execution_count": 161,
   "metadata": {},
   "outputs": [
    {
     "name": "stdout",
     "output_type": "stream",
     "text": [
      "accuracy of KNN in 1 fold  is 0.7808219178082192:\n",
      "accuracy of KNN in 2 fold  is 0.9041095890410958:\n",
      "accuracy of KNN in 3 fold  is 0.6805555555555556:\n",
      "accuracy of KNN in 4 fold  is 0.7638888888888888:\n",
      "accuracy of KNN in 5 fold  is 0.6527777777777778:\n"
     ]
    }
   ],
   "source": [
    "import numpy as np\n",
    "from sklearn.model_selection import StratifiedKFold\n",
    "skf = StratifiedKFold(n_splits=5)\n",
    "\n",
    "skf.get_n_splits(edf.iloc[:,0:40], edf.iloc[:,-1])\n",
    "y3=[]\n",
    "for i,j in skf.split(edf.iloc[:,0:40],edf.iloc[:,-1]):\n",
    "    x_traink=edf.iloc[i,0:40]\n",
    "    y_traink=edf.iloc[i,-1]\n",
    "    x_testk=edf.iloc[j,0:40]\n",
    "    y_testk=edf.iloc[j,-1]\n",
    "    from sklearn.neighbors import KNeighborsClassifier\n",
    "    clf1 = KNeighborsClassifier(n_neighbors=23)\n",
    "    clf1.fit(x_traink, y_traink)\n",
    "    y_predk=clf1.predict(x_testk)\n",
    "    score = metrics.accuracy_score(y_testk,y_predk)\n",
    "    y3.append(score)\n",
    "for i in range(len(y3)):\n",
    "    print(\"accuracy of KNN in {} fold  is {}:\".format(i+1,y3[i]))\n",
    "    \n",
    "    "
   ]
  },
  {
   "cell_type": "code",
   "execution_count": 162,
   "metadata": {},
   "outputs": [],
   "source": [
    "\n",
    "k=pd.DataFrame(index =[\"accuracy of {} fold\".format(i+1)  for i in range(len(y3))],columns=[\"SVM\",\"KNN\",\"DECISSION_TREES\"])"
   ]
  },
  {
   "cell_type": "code",
   "execution_count": 163,
   "metadata": {},
   "outputs": [],
   "source": [
    "k.SVM =y1\n",
    "k.KNN =y2\n",
    "k.DECISSION_TREES =y3"
   ]
  },
  {
   "cell_type": "code",
   "execution_count": 164,
   "metadata": {},
   "outputs": [
    {
     "data": {
      "text/html": [
       "<div>\n",
       "<style scoped>\n",
       "    .dataframe tbody tr th:only-of-type {\n",
       "        vertical-align: middle;\n",
       "    }\n",
       "\n",
       "    .dataframe tbody tr th {\n",
       "        vertical-align: top;\n",
       "    }\n",
       "\n",
       "    .dataframe thead th {\n",
       "        text-align: right;\n",
       "    }\n",
       "</style>\n",
       "<table border=\"1\" class=\"dataframe\">\n",
       "  <thead>\n",
       "    <tr style=\"text-align: right;\">\n",
       "      <th></th>\n",
       "      <th>SVM</th>\n",
       "      <th>KNN</th>\n",
       "      <th>DECISSION_TREES</th>\n",
       "    </tr>\n",
       "  </thead>\n",
       "  <tbody>\n",
       "    <tr>\n",
       "      <th>accuracy of 1 fold</th>\n",
       "      <td>0.808219</td>\n",
       "      <td>0.794521</td>\n",
       "      <td>0.780822</td>\n",
       "    </tr>\n",
       "    <tr>\n",
       "      <th>accuracy of 2 fold</th>\n",
       "      <td>0.890411</td>\n",
       "      <td>0.904110</td>\n",
       "      <td>0.904110</td>\n",
       "    </tr>\n",
       "    <tr>\n",
       "      <th>accuracy of 3 fold</th>\n",
       "      <td>0.680556</td>\n",
       "      <td>0.666667</td>\n",
       "      <td>0.680556</td>\n",
       "    </tr>\n",
       "    <tr>\n",
       "      <th>accuracy of 4 fold</th>\n",
       "      <td>0.819444</td>\n",
       "      <td>0.652778</td>\n",
       "      <td>0.763889</td>\n",
       "    </tr>\n",
       "    <tr>\n",
       "      <th>accuracy of 5 fold</th>\n",
       "      <td>0.708333</td>\n",
       "      <td>0.694444</td>\n",
       "      <td>0.652778</td>\n",
       "    </tr>\n",
       "  </tbody>\n",
       "</table>\n",
       "</div>"
      ],
      "text/plain": [
       "                         SVM       KNN  DECISSION_TREES\n",
       "accuracy of 1 fold  0.808219  0.794521         0.780822\n",
       "accuracy of 2 fold  0.890411  0.904110         0.904110\n",
       "accuracy of 3 fold  0.680556  0.666667         0.680556\n",
       "accuracy of 4 fold  0.819444  0.652778         0.763889\n",
       "accuracy of 5 fold  0.708333  0.694444         0.652778"
      ]
     },
     "execution_count": 164,
     "metadata": {},
     "output_type": "execute_result"
    }
   ],
   "source": [
    "k"
   ]
  },
  {
   "cell_type": "code",
   "execution_count": null,
   "metadata": {},
   "outputs": [],
   "source": []
  }
 ],
 "metadata": {
  "kernelspec": {
   "display_name": "Python 3",
   "language": "python",
   "name": "python3"
  },
  "language_info": {
   "codemirror_mode": {
    "name": "ipython",
    "version": 3
   },
   "file_extension": ".py",
   "mimetype": "text/x-python",
   "name": "python",
   "nbconvert_exporter": "python",
   "pygments_lexer": "ipython3",
   "version": "3.8.3"
  }
 },
 "nbformat": 4,
 "nbformat_minor": 4
}
