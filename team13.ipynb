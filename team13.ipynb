{
 "cells": [
  {
   "cell_type": "code",
   "execution_count": 1,
   "metadata": {},
   "outputs": [],
   "source": [
    "import matplotlib.pyplot as plt\n",
    "import matplotlib.pyplot as plt1\n",
    "%matplotlib inline\n",
    "import warnings\n",
    "warnings.filterwarnings(\"ignore\")\n",
    "import pandas as pd\n",
    "from sklearn.model_selection import train_test_split\n",
    "from sklearn import metrics\n",
    "from sklearn.metrics import plot_confusion_matrix\n",
    "from sklearn.pipeline import Pipeline\n",
    "from sklearn.svm import SVC\n",
    "from sklearn.preprocessing import StandardScaler\n",
    "from sklearn.datasets import make_classification\n",
    "from sklearn.model_selection import train_test_split\n",
    "from sklearn.pipeline import Pipeline\n",
    "from sklearn.metrics import plot_confusion_matrix\n",
    "from scipy.io.wavfile import write\n",
    "import speech_recognition as sr\n",
    "from audiomentations import Compose, AddGaussianNoise, PitchShift, HighPassFilter\n",
    "import soundfile as sf"
   ]
  },
  {
   "cell_type": "code",
   "execution_count": 2,
   "metadata": {},
   "outputs": [],
   "source": [
    "import pyttsx3"
   ]
  },
  {
   "cell_type": "code",
   "execution_count": 3,
   "metadata": {},
   "outputs": [],
   "source": [
    "engine = pyttsx3.init('sapi5')\n",
    "voices = engine.getProperty('voices')\n",
    "# print(voices[1].id)\n",
    "engine.setProperty('voice', voices[0].id)\n",
    "\n",
    "\n",
    "def speak(audio):\n",
    "    engine.say(audio)\n",
    "    engine.runAndWait()\n"
   ]
  },
  {
   "cell_type": "code",
   "execution_count": 4,
   "metadata": {},
   "outputs": [],
   "source": [
    "from pydub import AudioSegment"
   ]
  },
  {
   "cell_type": "code",
   "execution_count": 5,
   "metadata": {},
   "outputs": [],
   "source": [
    "import pandas as pd"
   ]
  },
  {
   "cell_type": "code",
   "execution_count": 6,
   "metadata": {},
   "outputs": [],
   "source": [
    "#! pip install librosa\n",
    "#! pip install mir_eval\n",
    "import librosa\n",
    "import librosa.display as dsp\n",
    "import mir_eval\n",
    "from IPython.display import Audio\n",
    "import matplotlib.pyplot as plt\n",
    "import numpy as np"
   ]
  },
  {
   "cell_type": "code",
   "execution_count": 7,
   "metadata": {},
   "outputs": [],
   "source": [
    "metadata=pd.read_csv(r\"C:\\Users\\hp\\OneDrive\\Desktop\\metadata.csv\")"
   ]
  },
  {
   "cell_type": "code",
   "execution_count": 8,
   "metadata": {},
   "outputs": [
    {
     "data": {
      "text/html": [
       "<div>\n",
       "<style scoped>\n",
       "    .dataframe tbody tr th:only-of-type {\n",
       "        vertical-align: middle;\n",
       "    }\n",
       "\n",
       "    .dataframe tbody tr th {\n",
       "        vertical-align: top;\n",
       "    }\n",
       "\n",
       "    .dataframe thead th {\n",
       "        text-align: right;\n",
       "    }\n",
       "</style>\n",
       "<table border=\"1\" class=\"dataframe\">\n",
       "  <thead>\n",
       "    <tr style=\"text-align: right;\">\n",
       "      <th></th>\n",
       "      <th>class</th>\n",
       "      <th>location</th>\n",
       "      <th>total</th>\n",
       "    </tr>\n",
       "  </thead>\n",
       "  <tbody>\n",
       "    <tr>\n",
       "      <th>0</th>\n",
       "      <td>chiranjeevi original-</td>\n",
       "      <td>F:\\project\\chiranjeevi original</td>\n",
       "      <td>65</td>\n",
       "    </tr>\n",
       "    <tr>\n",
       "      <th>1</th>\n",
       "      <td>chiru</td>\n",
       "      <td>F:\\project\\chiru</td>\n",
       "      <td>35</td>\n",
       "    </tr>\n",
       "    <tr>\n",
       "      <th>2</th>\n",
       "      <td>ANR mimicry-</td>\n",
       "      <td>F:\\project\\ANR mimicry</td>\n",
       "      <td>37</td>\n",
       "    </tr>\n",
       "    <tr>\n",
       "      <th>3</th>\n",
       "      <td>ANR original-</td>\n",
       "      <td>F:\\project\\ANR original</td>\n",
       "      <td>50</td>\n",
       "    </tr>\n",
       "  </tbody>\n",
       "</table>\n",
       "</div>"
      ],
      "text/plain": [
       "                  class                         location   total\n",
       "0  chiranjeevi original-  F:\\project\\chiranjeevi original     65\n",
       "1                  chiru                 F:\\project\\chiru     35\n",
       "2           ANR mimicry-           F:\\project\\ANR mimicry     37\n",
       "3          ANR original-          F:\\project\\ANR original     50"
      ]
     },
     "execution_count": 8,
     "metadata": {},
     "output_type": "execute_result"
    }
   ],
   "source": [
    "metadata"
   ]
  },
  {
   "cell_type": "raw",
   "metadata": {},
   "source": [
    "augment_raw_audio = Compose(\n",
    "    [\n",
    "        #PitchShift(min_semitones=-8, max_semitones=8, p=1),\n",
    "        HighPassFilter(min_cutoff_freq=2000, max_cutoff_freq=4000, p=1)\n",
    "    ]\n",
    ")\n"
   ]
  },
  {
   "cell_type": "code",
   "execution_count": 9,
   "metadata": {},
   "outputs": [],
   "source": [
    "x=metadata\n",
    "#print(str(x.iloc[i,1])+ str(\"\\\\\")+ str(x.iloc[i,0])+str(x.iloc[i,2]+1)+\".wav\")"
   ]
  },
  {
   "cell_type": "markdown",
   "metadata": {},
   "source": [
    "i=0\n",
    "j=1\n",
    "k= str(x.iloc[i,1])+ str(\"\\\\\")+ str(x.iloc[i,0])+str(j)+ \".wav\"\n",
    "signal, sr = librosa.load(k)\n",
    "augmented_signal = augment_raw_audio(signal, sr)\n",
    "path =str(x.iloc[i,1])+ str(\"\\\\\")+ str(x.iloc[i,0])+str(x.iloc[i,2]+1)+\".wav\"\n",
    "f= open(p,\"w+\")\n",
    "sf.write(p+\"guru99.wav\", augmented_signal, sr)"
   ]
  },
  {
   "cell_type": "raw",
   "metadata": {},
   "source": [
    "def k(x):\n",
    "    y=[]\n",
    "    for i in range(len(x.iloc[:,0])):\n",
    "        \n",
    "        for j in range(1,int(x.iloc[i,2])+1):\n",
    "            k= str(x.iloc[i,1])+ str(\"\\\\\")+ str(x.iloc[i,0])+str(j)+ \".wav\"\n",
    "            signal, sr = librosa.load(k)\n",
    "            augmented_signal = augment_raw_audio(signal, sr)\n",
    "            path =str(x.iloc[i,1])+ str(\"\\\\\")+ str(x.iloc[i,0])+str(x.iloc[i,2]+j)+\".wav\"\n",
    "            f= open(path,\"w+\")\n",
    "            sf.write(path, augmented_signal, sr)\n",
    "k(x)"
   ]
  },
  {
   "cell_type": "code",
   "execution_count": null,
   "metadata": {},
   "outputs": [],
   "source": []
  },
  {
   "cell_type": "code",
   "execution_count": 12,
   "metadata": {},
   "outputs": [],
   "source": [
    "def f(x):\n",
    "    y=[]\n",
    "    for i in range(len(x.iloc[:,0])):\n",
    "        \n",
    "        for j in range(1,int(x.iloc[i,2])):\n",
    "            \n",
    "            k= str(x.iloc[i,1])+ str(\"\\\\\")+ str(x.iloc[i,0])+str(j)+ \".wav\"\n",
    "            audio,sample_rate = librosa.load(k,res_type='kaiser_fast')\n",
    "            \n",
    "            mfccs_features = librosa.feature.mfcc(y=audio, sr=sample_rate, n_mfcc=40)\n",
    "            mfccs_scaled_features = np.mean(mfccs_features.T,axis=0)\n",
    "            b=list(mfccs_scaled_features)\n",
    "            b.append(x.iloc[i,0])\n",
    "            y.append(b)\n",
    "    return y"
   ]
  },
  {
   "cell_type": "code",
   "execution_count": 13,
   "metadata": {},
   "outputs": [],
   "source": [
    "y= f(metadata)"
   ]
  },
  {
   "cell_type": "code",
   "execution_count": 14,
   "metadata": {},
   "outputs": [
    {
     "data": {
      "text/plain": [
       "183"
      ]
     },
     "execution_count": 14,
     "metadata": {},
     "output_type": "execute_result"
    }
   ],
   "source": [
    "len(y)"
   ]
  },
  {
   "cell_type": "code",
   "execution_count": 15,
   "metadata": {},
   "outputs": [],
   "source": [
    "edf=pd.DataFrame(y,columns = [x for x in range(41)])"
   ]
  },
  {
   "cell_type": "code",
   "execution_count": 16,
   "metadata": {
    "scrolled": true
   },
   "outputs": [],
   "source": [
    "cl=edf.columns"
   ]
  },
  {
   "cell_type": "code",
   "execution_count": 17,
   "metadata": {},
   "outputs": [
    {
     "data": {
      "text/html": [
       "<div>\n",
       "<style scoped>\n",
       "    .dataframe tbody tr th:only-of-type {\n",
       "        vertical-align: middle;\n",
       "    }\n",
       "\n",
       "    .dataframe tbody tr th {\n",
       "        vertical-align: top;\n",
       "    }\n",
       "\n",
       "    .dataframe thead th {\n",
       "        text-align: right;\n",
       "    }\n",
       "</style>\n",
       "<table border=\"1\" class=\"dataframe\">\n",
       "  <thead>\n",
       "    <tr style=\"text-align: right;\">\n",
       "      <th></th>\n",
       "      <th>0</th>\n",
       "      <th>1</th>\n",
       "      <th>2</th>\n",
       "      <th>3</th>\n",
       "      <th>4</th>\n",
       "      <th>5</th>\n",
       "      <th>6</th>\n",
       "      <th>7</th>\n",
       "      <th>8</th>\n",
       "      <th>9</th>\n",
       "      <th>...</th>\n",
       "      <th>31</th>\n",
       "      <th>32</th>\n",
       "      <th>33</th>\n",
       "      <th>34</th>\n",
       "      <th>35</th>\n",
       "      <th>36</th>\n",
       "      <th>37</th>\n",
       "      <th>38</th>\n",
       "      <th>39</th>\n",
       "      <th>40</th>\n",
       "    </tr>\n",
       "  </thead>\n",
       "  <tbody>\n",
       "    <tr>\n",
       "      <th>0</th>\n",
       "      <td>-206.915649</td>\n",
       "      <td>100.187340</td>\n",
       "      <td>-32.213154</td>\n",
       "      <td>35.693474</td>\n",
       "      <td>-9.092731</td>\n",
       "      <td>16.664572</td>\n",
       "      <td>-5.313095</td>\n",
       "      <td>9.479670</td>\n",
       "      <td>-20.473705</td>\n",
       "      <td>6.460907</td>\n",
       "      <td>...</td>\n",
       "      <td>0.674733</td>\n",
       "      <td>-1.147056</td>\n",
       "      <td>-1.813995</td>\n",
       "      <td>-1.432564</td>\n",
       "      <td>0.856860</td>\n",
       "      <td>0.838472</td>\n",
       "      <td>2.971595</td>\n",
       "      <td>4.306870</td>\n",
       "      <td>3.671580</td>\n",
       "      <td>chiranjeevi original-</td>\n",
       "    </tr>\n",
       "    <tr>\n",
       "      <th>1</th>\n",
       "      <td>-168.503799</td>\n",
       "      <td>92.796013</td>\n",
       "      <td>-43.470993</td>\n",
       "      <td>44.681686</td>\n",
       "      <td>-9.913730</td>\n",
       "      <td>18.575882</td>\n",
       "      <td>-12.464251</td>\n",
       "      <td>16.839586</td>\n",
       "      <td>-20.355118</td>\n",
       "      <td>2.868820</td>\n",
       "      <td>...</td>\n",
       "      <td>3.128470</td>\n",
       "      <td>5.135781</td>\n",
       "      <td>4.589956</td>\n",
       "      <td>2.972625</td>\n",
       "      <td>5.682449</td>\n",
       "      <td>7.099750</td>\n",
       "      <td>6.227372</td>\n",
       "      <td>6.285898</td>\n",
       "      <td>5.299379</td>\n",
       "      <td>chiranjeevi original-</td>\n",
       "    </tr>\n",
       "    <tr>\n",
       "      <th>2</th>\n",
       "      <td>-259.355194</td>\n",
       "      <td>84.782806</td>\n",
       "      <td>-32.544975</td>\n",
       "      <td>34.884106</td>\n",
       "      <td>2.299232</td>\n",
       "      <td>14.806336</td>\n",
       "      <td>-10.628572</td>\n",
       "      <td>3.841967</td>\n",
       "      <td>-21.005394</td>\n",
       "      <td>4.796550</td>\n",
       "      <td>...</td>\n",
       "      <td>0.359363</td>\n",
       "      <td>-1.479052</td>\n",
       "      <td>0.661695</td>\n",
       "      <td>-1.770656</td>\n",
       "      <td>0.823466</td>\n",
       "      <td>-0.450124</td>\n",
       "      <td>0.577029</td>\n",
       "      <td>1.828550</td>\n",
       "      <td>2.666865</td>\n",
       "      <td>chiranjeevi original-</td>\n",
       "    </tr>\n",
       "    <tr>\n",
       "      <th>3</th>\n",
       "      <td>-304.515564</td>\n",
       "      <td>107.515808</td>\n",
       "      <td>-34.179028</td>\n",
       "      <td>29.284449</td>\n",
       "      <td>11.141503</td>\n",
       "      <td>11.212320</td>\n",
       "      <td>-6.000972</td>\n",
       "      <td>7.561637</td>\n",
       "      <td>-19.814968</td>\n",
       "      <td>3.140187</td>\n",
       "      <td>...</td>\n",
       "      <td>1.544027</td>\n",
       "      <td>-0.211164</td>\n",
       "      <td>0.011923</td>\n",
       "      <td>-1.396156</td>\n",
       "      <td>0.286330</td>\n",
       "      <td>-1.139802</td>\n",
       "      <td>-1.681980</td>\n",
       "      <td>0.924567</td>\n",
       "      <td>2.572811</td>\n",
       "      <td>chiranjeevi original-</td>\n",
       "    </tr>\n",
       "    <tr>\n",
       "      <th>4</th>\n",
       "      <td>-261.992157</td>\n",
       "      <td>84.354660</td>\n",
       "      <td>-31.479340</td>\n",
       "      <td>24.127695</td>\n",
       "      <td>-2.888325</td>\n",
       "      <td>11.604282</td>\n",
       "      <td>-7.427988</td>\n",
       "      <td>10.674010</td>\n",
       "      <td>-13.976500</td>\n",
       "      <td>10.212080</td>\n",
       "      <td>...</td>\n",
       "      <td>3.961703</td>\n",
       "      <td>1.596172</td>\n",
       "      <td>4.365419</td>\n",
       "      <td>4.963208</td>\n",
       "      <td>7.788960</td>\n",
       "      <td>6.138669</td>\n",
       "      <td>4.439319</td>\n",
       "      <td>3.514583</td>\n",
       "      <td>3.402252</td>\n",
       "      <td>chiranjeevi original-</td>\n",
       "    </tr>\n",
       "    <tr>\n",
       "      <th>...</th>\n",
       "      <td>...</td>\n",
       "      <td>...</td>\n",
       "      <td>...</td>\n",
       "      <td>...</td>\n",
       "      <td>...</td>\n",
       "      <td>...</td>\n",
       "      <td>...</td>\n",
       "      <td>...</td>\n",
       "      <td>...</td>\n",
       "      <td>...</td>\n",
       "      <td>...</td>\n",
       "      <td>...</td>\n",
       "      <td>...</td>\n",
       "      <td>...</td>\n",
       "      <td>...</td>\n",
       "      <td>...</td>\n",
       "      <td>...</td>\n",
       "      <td>...</td>\n",
       "      <td>...</td>\n",
       "      <td>...</td>\n",
       "      <td>...</td>\n",
       "    </tr>\n",
       "    <tr>\n",
       "      <th>178</th>\n",
       "      <td>-323.300873</td>\n",
       "      <td>146.807388</td>\n",
       "      <td>-3.362075</td>\n",
       "      <td>13.176831</td>\n",
       "      <td>9.660857</td>\n",
       "      <td>7.852194</td>\n",
       "      <td>1.310507</td>\n",
       "      <td>6.758285</td>\n",
       "      <td>-2.529438</td>\n",
       "      <td>-16.538561</td>\n",
       "      <td>...</td>\n",
       "      <td>-1.011140</td>\n",
       "      <td>-2.352942</td>\n",
       "      <td>-4.106233</td>\n",
       "      <td>-2.915109</td>\n",
       "      <td>-2.218339</td>\n",
       "      <td>-3.907215</td>\n",
       "      <td>-5.772194</td>\n",
       "      <td>-1.898642</td>\n",
       "      <td>0.672968</td>\n",
       "      <td>ANR original-</td>\n",
       "    </tr>\n",
       "    <tr>\n",
       "      <th>179</th>\n",
       "      <td>-280.341278</td>\n",
       "      <td>141.334366</td>\n",
       "      <td>-4.940029</td>\n",
       "      <td>19.982378</td>\n",
       "      <td>5.714639</td>\n",
       "      <td>12.433653</td>\n",
       "      <td>2.284604</td>\n",
       "      <td>4.212228</td>\n",
       "      <td>-3.063920</td>\n",
       "      <td>-19.621639</td>\n",
       "      <td>...</td>\n",
       "      <td>-2.004070</td>\n",
       "      <td>-4.628380</td>\n",
       "      <td>-7.135531</td>\n",
       "      <td>-2.596452</td>\n",
       "      <td>-1.744920</td>\n",
       "      <td>-3.862128</td>\n",
       "      <td>-4.752705</td>\n",
       "      <td>-0.192972</td>\n",
       "      <td>3.648925</td>\n",
       "      <td>ANR original-</td>\n",
       "    </tr>\n",
       "    <tr>\n",
       "      <th>180</th>\n",
       "      <td>-311.059814</td>\n",
       "      <td>132.339874</td>\n",
       "      <td>14.725657</td>\n",
       "      <td>5.609408</td>\n",
       "      <td>3.556596</td>\n",
       "      <td>5.717206</td>\n",
       "      <td>5.731790</td>\n",
       "      <td>7.778067</td>\n",
       "      <td>-5.706516</td>\n",
       "      <td>-16.303764</td>\n",
       "      <td>...</td>\n",
       "      <td>-3.419457</td>\n",
       "      <td>-4.351867</td>\n",
       "      <td>-5.549552</td>\n",
       "      <td>-3.705515</td>\n",
       "      <td>-1.393068</td>\n",
       "      <td>-3.653743</td>\n",
       "      <td>-5.119195</td>\n",
       "      <td>-2.106163</td>\n",
       "      <td>-0.481370</td>\n",
       "      <td>ANR original-</td>\n",
       "    </tr>\n",
       "    <tr>\n",
       "      <th>181</th>\n",
       "      <td>-327.353058</td>\n",
       "      <td>125.258247</td>\n",
       "      <td>14.776396</td>\n",
       "      <td>12.641444</td>\n",
       "      <td>6.073719</td>\n",
       "      <td>7.503607</td>\n",
       "      <td>3.839661</td>\n",
       "      <td>4.461445</td>\n",
       "      <td>-2.915198</td>\n",
       "      <td>-14.432652</td>\n",
       "      <td>...</td>\n",
       "      <td>-0.732903</td>\n",
       "      <td>-2.518379</td>\n",
       "      <td>-4.266646</td>\n",
       "      <td>-3.088290</td>\n",
       "      <td>-1.923386</td>\n",
       "      <td>-2.731606</td>\n",
       "      <td>-3.059264</td>\n",
       "      <td>0.102165</td>\n",
       "      <td>1.737047</td>\n",
       "      <td>ANR original-</td>\n",
       "    </tr>\n",
       "    <tr>\n",
       "      <th>182</th>\n",
       "      <td>-332.092651</td>\n",
       "      <td>129.494354</td>\n",
       "      <td>4.888134</td>\n",
       "      <td>18.493546</td>\n",
       "      <td>9.029174</td>\n",
       "      <td>8.600024</td>\n",
       "      <td>3.866529</td>\n",
       "      <td>6.904613</td>\n",
       "      <td>-2.197305</td>\n",
       "      <td>-15.487681</td>\n",
       "      <td>...</td>\n",
       "      <td>0.079949</td>\n",
       "      <td>-1.581321</td>\n",
       "      <td>-3.472558</td>\n",
       "      <td>-0.748083</td>\n",
       "      <td>-0.571384</td>\n",
       "      <td>-2.523171</td>\n",
       "      <td>-2.791633</td>\n",
       "      <td>0.263965</td>\n",
       "      <td>1.880314</td>\n",
       "      <td>ANR original-</td>\n",
       "    </tr>\n",
       "  </tbody>\n",
       "</table>\n",
       "<p>183 rows × 41 columns</p>\n",
       "</div>"
      ],
      "text/plain": [
       "             0           1          2          3          4          5   \\\n",
       "0   -206.915649  100.187340 -32.213154  35.693474  -9.092731  16.664572   \n",
       "1   -168.503799   92.796013 -43.470993  44.681686  -9.913730  18.575882   \n",
       "2   -259.355194   84.782806 -32.544975  34.884106   2.299232  14.806336   \n",
       "3   -304.515564  107.515808 -34.179028  29.284449  11.141503  11.212320   \n",
       "4   -261.992157   84.354660 -31.479340  24.127695  -2.888325  11.604282   \n",
       "..          ...         ...        ...        ...        ...        ...   \n",
       "178 -323.300873  146.807388  -3.362075  13.176831   9.660857   7.852194   \n",
       "179 -280.341278  141.334366  -4.940029  19.982378   5.714639  12.433653   \n",
       "180 -311.059814  132.339874  14.725657   5.609408   3.556596   5.717206   \n",
       "181 -327.353058  125.258247  14.776396  12.641444   6.073719   7.503607   \n",
       "182 -332.092651  129.494354   4.888134  18.493546   9.029174   8.600024   \n",
       "\n",
       "            6          7          8          9   ...        31        32  \\\n",
       "0    -5.313095   9.479670 -20.473705   6.460907  ...  0.674733 -1.147056   \n",
       "1   -12.464251  16.839586 -20.355118   2.868820  ...  3.128470  5.135781   \n",
       "2   -10.628572   3.841967 -21.005394   4.796550  ...  0.359363 -1.479052   \n",
       "3    -6.000972   7.561637 -19.814968   3.140187  ...  1.544027 -0.211164   \n",
       "4    -7.427988  10.674010 -13.976500  10.212080  ...  3.961703  1.596172   \n",
       "..         ...        ...        ...        ...  ...       ...       ...   \n",
       "178   1.310507   6.758285  -2.529438 -16.538561  ... -1.011140 -2.352942   \n",
       "179   2.284604   4.212228  -3.063920 -19.621639  ... -2.004070 -4.628380   \n",
       "180   5.731790   7.778067  -5.706516 -16.303764  ... -3.419457 -4.351867   \n",
       "181   3.839661   4.461445  -2.915198 -14.432652  ... -0.732903 -2.518379   \n",
       "182   3.866529   6.904613  -2.197305 -15.487681  ...  0.079949 -1.581321   \n",
       "\n",
       "           33        34        35        36        37        38        39  \\\n",
       "0   -1.813995 -1.432564  0.856860  0.838472  2.971595  4.306870  3.671580   \n",
       "1    4.589956  2.972625  5.682449  7.099750  6.227372  6.285898  5.299379   \n",
       "2    0.661695 -1.770656  0.823466 -0.450124  0.577029  1.828550  2.666865   \n",
       "3    0.011923 -1.396156  0.286330 -1.139802 -1.681980  0.924567  2.572811   \n",
       "4    4.365419  4.963208  7.788960  6.138669  4.439319  3.514583  3.402252   \n",
       "..        ...       ...       ...       ...       ...       ...       ...   \n",
       "178 -4.106233 -2.915109 -2.218339 -3.907215 -5.772194 -1.898642  0.672968   \n",
       "179 -7.135531 -2.596452 -1.744920 -3.862128 -4.752705 -0.192972  3.648925   \n",
       "180 -5.549552 -3.705515 -1.393068 -3.653743 -5.119195 -2.106163 -0.481370   \n",
       "181 -4.266646 -3.088290 -1.923386 -2.731606 -3.059264  0.102165  1.737047   \n",
       "182 -3.472558 -0.748083 -0.571384 -2.523171 -2.791633  0.263965  1.880314   \n",
       "\n",
       "                        40  \n",
       "0    chiranjeevi original-  \n",
       "1    chiranjeevi original-  \n",
       "2    chiranjeevi original-  \n",
       "3    chiranjeevi original-  \n",
       "4    chiranjeevi original-  \n",
       "..                     ...  \n",
       "178          ANR original-  \n",
       "179          ANR original-  \n",
       "180          ANR original-  \n",
       "181          ANR original-  \n",
       "182          ANR original-  \n",
       "\n",
       "[183 rows x 41 columns]"
      ]
     },
     "execution_count": 17,
     "metadata": {},
     "output_type": "execute_result"
    }
   ],
   "source": [
    "edf"
   ]
  },
  {
   "cell_type": "markdown",
   "metadata": {},
   "source": [
    "data visualization"
   ]
  },
  {
   "cell_type": "code",
   "execution_count": 18,
   "metadata": {},
   "outputs": [],
   "source": [
    "p=list(set(edf.iloc[:,-1]))\n",
    "l=[]\n",
    "for i in p:\n",
    "    l.append(edf[edf.iloc[:,-1]==i])"
   ]
  },
  {
   "cell_type": "code",
   "execution_count": null,
   "metadata": {},
   "outputs": [],
   "source": []
  },
  {
   "cell_type": "code",
   "execution_count": 19,
   "metadata": {},
   "outputs": [
    {
     "data": {
      "text/plain": [
       "<matplotlib.collections.PathCollection at 0x2b589b17400>"
      ]
     },
     "execution_count": 19,
     "metadata": {},
     "output_type": "execute_result"
    },
    {
     "data": {
      "image/png": "[encoded data removed]",
      "text/plain": [
       "<Figure size 432x288 with 1 Axes>"
      ]
     },
     "metadata": {
      "needs_background": "light"
     },
     "output_type": "display_data"
    }
   ],
   "source": [
    "#plt.subplot(2,2)\n",
    "import seaborn\n",
    "#sns.plot()\n",
    "from sklearn.decomposition import PCA\n",
    "pca = PCA(n_components = 2)\n",
    "v_m= pca.fit_transform(l[3].iloc[:,0:39])\n",
    "plt.scatter(v_m[:,0],v_m[:,1])"
   ]
  },
  {
   "cell_type": "code",
   "execution_count": 20,
   "metadata": {},
   "outputs": [
    {
     "data": {
      "text/plain": [
       "LabelEncoder()"
      ]
     },
     "execution_count": 20,
     "metadata": {},
     "output_type": "execute_result"
    }
   ],
   "source": [
    "from sklearn.preprocessing import LabelEncoder\n",
    "ohe=LabelEncoder()\n",
    "ohe.fit(edf.iloc[:,-1])"
   ]
  },
  {
   "cell_type": "code",
   "execution_count": 21,
   "metadata": {
    "scrolled": true
   },
   "outputs": [],
   "source": [
    "#edf.iloc[:,-1]=ohe.transform(edf.iloc[:,-1])"
   ]
  },
  {
   "cell_type": "code",
   "execution_count": 22,
   "metadata": {},
   "outputs": [
    {
     "data": {
      "text/html": [
       "<div>\n",
       "<style scoped>\n",
       "    .dataframe tbody tr th:only-of-type {\n",
       "        vertical-align: middle;\n",
       "    }\n",
       "\n",
       "    .dataframe tbody tr th {\n",
       "        vertical-align: top;\n",
       "    }\n",
       "\n",
       "    .dataframe thead th {\n",
       "        text-align: right;\n",
       "    }\n",
       "</style>\n",
       "<table border=\"1\" class=\"dataframe\">\n",
       "  <thead>\n",
       "    <tr style=\"text-align: right;\">\n",
       "      <th></th>\n",
       "      <th>0</th>\n",
       "      <th>1</th>\n",
       "      <th>2</th>\n",
       "      <th>3</th>\n",
       "      <th>4</th>\n",
       "      <th>5</th>\n",
       "      <th>6</th>\n",
       "      <th>7</th>\n",
       "      <th>8</th>\n",
       "      <th>9</th>\n",
       "      <th>...</th>\n",
       "      <th>31</th>\n",
       "      <th>32</th>\n",
       "      <th>33</th>\n",
       "      <th>34</th>\n",
       "      <th>35</th>\n",
       "      <th>36</th>\n",
       "      <th>37</th>\n",
       "      <th>38</th>\n",
       "      <th>39</th>\n",
       "      <th>40</th>\n",
       "    </tr>\n",
       "  </thead>\n",
       "  <tbody>\n",
       "    <tr>\n",
       "      <th>0</th>\n",
       "      <td>-206.915649</td>\n",
       "      <td>100.187340</td>\n",
       "      <td>-32.213154</td>\n",
       "      <td>35.693474</td>\n",
       "      <td>-9.092731</td>\n",
       "      <td>16.664572</td>\n",
       "      <td>-5.313095</td>\n",
       "      <td>9.479670</td>\n",
       "      <td>-20.473705</td>\n",
       "      <td>6.460907</td>\n",
       "      <td>...</td>\n",
       "      <td>0.674733</td>\n",
       "      <td>-1.147056</td>\n",
       "      <td>-1.813995</td>\n",
       "      <td>-1.432564</td>\n",
       "      <td>0.856860</td>\n",
       "      <td>0.838472</td>\n",
       "      <td>2.971595</td>\n",
       "      <td>4.306870</td>\n",
       "      <td>3.671580</td>\n",
       "      <td>chiranjeevi original-</td>\n",
       "    </tr>\n",
       "    <tr>\n",
       "      <th>1</th>\n",
       "      <td>-168.503799</td>\n",
       "      <td>92.796013</td>\n",
       "      <td>-43.470993</td>\n",
       "      <td>44.681686</td>\n",
       "      <td>-9.913730</td>\n",
       "      <td>18.575882</td>\n",
       "      <td>-12.464251</td>\n",
       "      <td>16.839586</td>\n",
       "      <td>-20.355118</td>\n",
       "      <td>2.868820</td>\n",
       "      <td>...</td>\n",
       "      <td>3.128470</td>\n",
       "      <td>5.135781</td>\n",
       "      <td>4.589956</td>\n",
       "      <td>2.972625</td>\n",
       "      <td>5.682449</td>\n",
       "      <td>7.099750</td>\n",
       "      <td>6.227372</td>\n",
       "      <td>6.285898</td>\n",
       "      <td>5.299379</td>\n",
       "      <td>chiranjeevi original-</td>\n",
       "    </tr>\n",
       "    <tr>\n",
       "      <th>2</th>\n",
       "      <td>-259.355194</td>\n",
       "      <td>84.782806</td>\n",
       "      <td>-32.544975</td>\n",
       "      <td>34.884106</td>\n",
       "      <td>2.299232</td>\n",
       "      <td>14.806336</td>\n",
       "      <td>-10.628572</td>\n",
       "      <td>3.841967</td>\n",
       "      <td>-21.005394</td>\n",
       "      <td>4.796550</td>\n",
       "      <td>...</td>\n",
       "      <td>0.359363</td>\n",
       "      <td>-1.479052</td>\n",
       "      <td>0.661695</td>\n",
       "      <td>-1.770656</td>\n",
       "      <td>0.823466</td>\n",
       "      <td>-0.450124</td>\n",
       "      <td>0.577029</td>\n",
       "      <td>1.828550</td>\n",
       "      <td>2.666865</td>\n",
       "      <td>chiranjeevi original-</td>\n",
       "    </tr>\n",
       "    <tr>\n",
       "      <th>3</th>\n",
       "      <td>-304.515564</td>\n",
       "      <td>107.515808</td>\n",
       "      <td>-34.179028</td>\n",
       "      <td>29.284449</td>\n",
       "      <td>11.141503</td>\n",
       "      <td>11.212320</td>\n",
       "      <td>-6.000972</td>\n",
       "      <td>7.561637</td>\n",
       "      <td>-19.814968</td>\n",
       "      <td>3.140187</td>\n",
       "      <td>...</td>\n",
       "      <td>1.544027</td>\n",
       "      <td>-0.211164</td>\n",
       "      <td>0.011923</td>\n",
       "      <td>-1.396156</td>\n",
       "      <td>0.286330</td>\n",
       "      <td>-1.139802</td>\n",
       "      <td>-1.681980</td>\n",
       "      <td>0.924567</td>\n",
       "      <td>2.572811</td>\n",
       "      <td>chiranjeevi original-</td>\n",
       "    </tr>\n",
       "    <tr>\n",
       "      <th>4</th>\n",
       "      <td>-261.992157</td>\n",
       "      <td>84.354660</td>\n",
       "      <td>-31.479340</td>\n",
       "      <td>24.127695</td>\n",
       "      <td>-2.888325</td>\n",
       "      <td>11.604282</td>\n",
       "      <td>-7.427988</td>\n",
       "      <td>10.674010</td>\n",
       "      <td>-13.976500</td>\n",
       "      <td>10.212080</td>\n",
       "      <td>...</td>\n",
       "      <td>3.961703</td>\n",
       "      <td>1.596172</td>\n",
       "      <td>4.365419</td>\n",
       "      <td>4.963208</td>\n",
       "      <td>7.788960</td>\n",
       "      <td>6.138669</td>\n",
       "      <td>4.439319</td>\n",
       "      <td>3.514583</td>\n",
       "      <td>3.402252</td>\n",
       "      <td>chiranjeevi original-</td>\n",
       "    </tr>\n",
       "    <tr>\n",
       "      <th>...</th>\n",
       "      <td>...</td>\n",
       "      <td>...</td>\n",
       "      <td>...</td>\n",
       "      <td>...</td>\n",
       "      <td>...</td>\n",
       "      <td>...</td>\n",
       "      <td>...</td>\n",
       "      <td>...</td>\n",
       "      <td>...</td>\n",
       "      <td>...</td>\n",
       "      <td>...</td>\n",
       "      <td>...</td>\n",
       "      <td>...</td>\n",
       "      <td>...</td>\n",
       "      <td>...</td>\n",
       "      <td>...</td>\n",
       "      <td>...</td>\n",
       "      <td>...</td>\n",
       "      <td>...</td>\n",
       "      <td>...</td>\n",
       "      <td>...</td>\n",
       "    </tr>\n",
       "    <tr>\n",
       "      <th>178</th>\n",
       "      <td>-323.300873</td>\n",
       "      <td>146.807388</td>\n",
       "      <td>-3.362075</td>\n",
       "      <td>13.176831</td>\n",
       "      <td>9.660857</td>\n",
       "      <td>7.852194</td>\n",
       "      <td>1.310507</td>\n",
       "      <td>6.758285</td>\n",
       "      <td>-2.529438</td>\n",
       "      <td>-16.538561</td>\n",
       "      <td>...</td>\n",
       "      <td>-1.011140</td>\n",
       "      <td>-2.352942</td>\n",
       "      <td>-4.106233</td>\n",
       "      <td>-2.915109</td>\n",
       "      <td>-2.218339</td>\n",
       "      <td>-3.907215</td>\n",
       "      <td>-5.772194</td>\n",
       "      <td>-1.898642</td>\n",
       "      <td>0.672968</td>\n",
       "      <td>ANR original-</td>\n",
       "    </tr>\n",
       "    <tr>\n",
       "      <th>179</th>\n",
       "      <td>-280.341278</td>\n",
       "      <td>141.334366</td>\n",
       "      <td>-4.940029</td>\n",
       "      <td>19.982378</td>\n",
       "      <td>5.714639</td>\n",
       "      <td>12.433653</td>\n",
       "      <td>2.284604</td>\n",
       "      <td>4.212228</td>\n",
       "      <td>-3.063920</td>\n",
       "      <td>-19.621639</td>\n",
       "      <td>...</td>\n",
       "      <td>-2.004070</td>\n",
       "      <td>-4.628380</td>\n",
       "      <td>-7.135531</td>\n",
       "      <td>-2.596452</td>\n",
       "      <td>-1.744920</td>\n",
       "      <td>-3.862128</td>\n",
       "      <td>-4.752705</td>\n",
       "      <td>-0.192972</td>\n",
       "      <td>3.648925</td>\n",
       "      <td>ANR original-</td>\n",
       "    </tr>\n",
       "    <tr>\n",
       "      <th>180</th>\n",
       "      <td>-311.059814</td>\n",
       "      <td>132.339874</td>\n",
       "      <td>14.725657</td>\n",
       "      <td>5.609408</td>\n",
       "      <td>3.556596</td>\n",
       "      <td>5.717206</td>\n",
       "      <td>5.731790</td>\n",
       "      <td>7.778067</td>\n",
       "      <td>-5.706516</td>\n",
       "      <td>-16.303764</td>\n",
       "      <td>...</td>\n",
       "      <td>-3.419457</td>\n",
       "      <td>-4.351867</td>\n",
       "      <td>-5.549552</td>\n",
       "      <td>-3.705515</td>\n",
       "      <td>-1.393068</td>\n",
       "      <td>-3.653743</td>\n",
       "      <td>-5.119195</td>\n",
       "      <td>-2.106163</td>\n",
       "      <td>-0.481370</td>\n",
       "      <td>ANR original-</td>\n",
       "    </tr>\n",
       "    <tr>\n",
       "      <th>181</th>\n",
       "      <td>-327.353058</td>\n",
       "      <td>125.258247</td>\n",
       "      <td>14.776396</td>\n",
       "      <td>12.641444</td>\n",
       "      <td>6.073719</td>\n",
       "      <td>7.503607</td>\n",
       "      <td>3.839661</td>\n",
       "      <td>4.461445</td>\n",
       "      <td>-2.915198</td>\n",
       "      <td>-14.432652</td>\n",
       "      <td>...</td>\n",
       "      <td>-0.732903</td>\n",
       "      <td>-2.518379</td>\n",
       "      <td>-4.266646</td>\n",
       "      <td>-3.088290</td>\n",
       "      <td>-1.923386</td>\n",
       "      <td>-2.731606</td>\n",
       "      <td>-3.059264</td>\n",
       "      <td>0.102165</td>\n",
       "      <td>1.737047</td>\n",
       "      <td>ANR original-</td>\n",
       "    </tr>\n",
       "    <tr>\n",
       "      <th>182</th>\n",
       "      <td>-332.092651</td>\n",
       "      <td>129.494354</td>\n",
       "      <td>4.888134</td>\n",
       "      <td>18.493546</td>\n",
       "      <td>9.029174</td>\n",
       "      <td>8.600024</td>\n",
       "      <td>3.866529</td>\n",
       "      <td>6.904613</td>\n",
       "      <td>-2.197305</td>\n",
       "      <td>-15.487681</td>\n",
       "      <td>...</td>\n",
       "      <td>0.079949</td>\n",
       "      <td>-1.581321</td>\n",
       "      <td>-3.472558</td>\n",
       "      <td>-0.748083</td>\n",
       "      <td>-0.571384</td>\n",
       "      <td>-2.523171</td>\n",
       "      <td>-2.791633</td>\n",
       "      <td>0.263965</td>\n",
       "      <td>1.880314</td>\n",
       "      <td>ANR original-</td>\n",
       "    </tr>\n",
       "  </tbody>\n",
       "</table>\n",
       "<p>183 rows × 41 columns</p>\n",
       "</div>"
      ],
      "text/plain": [
       "             0           1          2          3          4          5   \\\n",
       "0   -206.915649  100.187340 -32.213154  35.693474  -9.092731  16.664572   \n",
       "1   -168.503799   92.796013 -43.470993  44.681686  -9.913730  18.575882   \n",
       "2   -259.355194   84.782806 -32.544975  34.884106   2.299232  14.806336   \n",
       "3   -304.515564  107.515808 -34.179028  29.284449  11.141503  11.212320   \n",
       "4   -261.992157   84.354660 -31.479340  24.127695  -2.888325  11.604282   \n",
       "..          ...         ...        ...        ...        ...        ...   \n",
       "178 -323.300873  146.807388  -3.362075  13.176831   9.660857   7.852194   \n",
       "179 -280.341278  141.334366  -4.940029  19.982378   5.714639  12.433653   \n",
       "180 -311.059814  132.339874  14.725657   5.609408   3.556596   5.717206   \n",
       "181 -327.353058  125.258247  14.776396  12.641444   6.073719   7.503607   \n",
       "182 -332.092651  129.494354   4.888134  18.493546   9.029174   8.600024   \n",
       "\n",
       "            6          7          8          9   ...        31        32  \\\n",
       "0    -5.313095   9.479670 -20.473705   6.460907  ...  0.674733 -1.147056   \n",
       "1   -12.464251  16.839586 -20.355118   2.868820  ...  3.128470  5.135781   \n",
       "2   -10.628572   3.841967 -21.005394   4.796550  ...  0.359363 -1.479052   \n",
       "3    -6.000972   7.561637 -19.814968   3.140187  ...  1.544027 -0.211164   \n",
       "4    -7.427988  10.674010 -13.976500  10.212080  ...  3.961703  1.596172   \n",
       "..         ...        ...        ...        ...  ...       ...       ...   \n",
       "178   1.310507   6.758285  -2.529438 -16.538561  ... -1.011140 -2.352942   \n",
       "179   2.284604   4.212228  -3.063920 -19.621639  ... -2.004070 -4.628380   \n",
       "180   5.731790   7.778067  -5.706516 -16.303764  ... -3.419457 -4.351867   \n",
       "181   3.839661   4.461445  -2.915198 -14.432652  ... -0.732903 -2.518379   \n",
       "182   3.866529   6.904613  -2.197305 -15.487681  ...  0.079949 -1.581321   \n",
       "\n",
       "           33        34        35        36        37        38        39  \\\n",
       "0   -1.813995 -1.432564  0.856860  0.838472  2.971595  4.306870  3.671580   \n",
       "1    4.589956  2.972625  5.682449  7.099750  6.227372  6.285898  5.299379   \n",
       "2    0.661695 -1.770656  0.823466 -0.450124  0.577029  1.828550  2.666865   \n",
       "3    0.011923 -1.396156  0.286330 -1.139802 -1.681980  0.924567  2.572811   \n",
       "4    4.365419  4.963208  7.788960  6.138669  4.439319  3.514583  3.402252   \n",
       "..        ...       ...       ...       ...       ...       ...       ...   \n",
       "178 -4.106233 -2.915109 -2.218339 -3.907215 -5.772194 -1.898642  0.672968   \n",
       "179 -7.135531 -2.596452 -1.744920 -3.862128 -4.752705 -0.192972  3.648925   \n",
       "180 -5.549552 -3.705515 -1.393068 -3.653743 -5.119195 -2.106163 -0.481370   \n",
       "181 -4.266646 -3.088290 -1.923386 -2.731606 -3.059264  0.102165  1.737047   \n",
       "182 -3.472558 -0.748083 -0.571384 -2.523171 -2.791633  0.263965  1.880314   \n",
       "\n",
       "                        40  \n",
       "0    chiranjeevi original-  \n",
       "1    chiranjeevi original-  \n",
       "2    chiranjeevi original-  \n",
       "3    chiranjeevi original-  \n",
       "4    chiranjeevi original-  \n",
       "..                     ...  \n",
       "178          ANR original-  \n",
       "179          ANR original-  \n",
       "180          ANR original-  \n",
       "181          ANR original-  \n",
       "182          ANR original-  \n",
       "\n",
       "[183 rows x 41 columns]"
      ]
     },
     "execution_count": 22,
     "metadata": {},
     "output_type": "execute_result"
    }
   ],
   "source": [
    "edf"
   ]
  },
  {
   "cell_type": "markdown",
   "metadata": {},
   "source": [
    "##preprocessing"
   ]
  },
  {
   "cell_type": "code",
   "execution_count": 23,
   "metadata": {},
   "outputs": [],
   "source": [
    "x_train, x_test, y_train,y_test =train_test_split(edf.iloc[:,0:40],edf[40])"
   ]
  },
  {
   "cell_type": "code",
   "execution_count": 24,
   "metadata": {},
   "outputs": [],
   "source": [
    "from sklearn.decomposition import PCA\n",
    "pca = PCA(n_components = 2)\n",
    "X2D_t= pca.fit_transform(x_test)"
   ]
  },
  {
   "cell_type": "code",
   "execution_count": 25,
   "metadata": {},
   "outputs": [],
   "source": [
    "X2D_t= pca.fit_transform(x_test)"
   ]
  },
  {
   "cell_type": "code",
   "execution_count": null,
   "metadata": {},
   "outputs": [],
   "source": []
  },
  {
   "cell_type": "code",
   "execution_count": 26,
   "metadata": {},
   "outputs": [
    {
     "data": {
      "text/html": [
       "<div>\n",
       "<style scoped>\n",
       "    .dataframe tbody tr th:only-of-type {\n",
       "        vertical-align: middle;\n",
       "    }\n",
       "\n",
       "    .dataframe tbody tr th {\n",
       "        vertical-align: top;\n",
       "    }\n",
       "\n",
       "    .dataframe thead th {\n",
       "        text-align: right;\n",
       "    }\n",
       "</style>\n",
       "<table border=\"1\" class=\"dataframe\">\n",
       "  <thead>\n",
       "    <tr style=\"text-align: right;\">\n",
       "      <th></th>\n",
       "      <th>0</th>\n",
       "      <th>1</th>\n",
       "      <th>2</th>\n",
       "      <th>3</th>\n",
       "      <th>4</th>\n",
       "      <th>5</th>\n",
       "      <th>6</th>\n",
       "      <th>7</th>\n",
       "      <th>8</th>\n",
       "      <th>9</th>\n",
       "      <th>...</th>\n",
       "      <th>30</th>\n",
       "      <th>31</th>\n",
       "      <th>32</th>\n",
       "      <th>33</th>\n",
       "      <th>34</th>\n",
       "      <th>35</th>\n",
       "      <th>36</th>\n",
       "      <th>37</th>\n",
       "      <th>38</th>\n",
       "      <th>39</th>\n",
       "    </tr>\n",
       "  </thead>\n",
       "  <tbody>\n",
       "    <tr>\n",
       "      <th>44</th>\n",
       "      <td>-305.903748</td>\n",
       "      <td>136.767487</td>\n",
       "      <td>-21.158831</td>\n",
       "      <td>8.689246</td>\n",
       "      <td>1.264073</td>\n",
       "      <td>-9.472857</td>\n",
       "      <td>-15.904866</td>\n",
       "      <td>-6.767755</td>\n",
       "      <td>-22.586054</td>\n",
       "      <td>-4.302612</td>\n",
       "      <td>...</td>\n",
       "      <td>-1.555829</td>\n",
       "      <td>1.806672</td>\n",
       "      <td>1.826841</td>\n",
       "      <td>0.052386</td>\n",
       "      <td>0.930716</td>\n",
       "      <td>-0.991762</td>\n",
       "      <td>-2.913344</td>\n",
       "      <td>-0.822944</td>\n",
       "      <td>-3.418969</td>\n",
       "      <td>-3.153448</td>\n",
       "    </tr>\n",
       "    <tr>\n",
       "      <th>65</th>\n",
       "      <td>-175.521408</td>\n",
       "      <td>113.198578</td>\n",
       "      <td>-9.703684</td>\n",
       "      <td>6.807632</td>\n",
       "      <td>-25.204927</td>\n",
       "      <td>-16.207237</td>\n",
       "      <td>-9.449834</td>\n",
       "      <td>9.714764</td>\n",
       "      <td>-20.350412</td>\n",
       "      <td>1.679502</td>\n",
       "      <td>...</td>\n",
       "      <td>-0.295250</td>\n",
       "      <td>1.693194</td>\n",
       "      <td>0.858459</td>\n",
       "      <td>0.912394</td>\n",
       "      <td>0.477799</td>\n",
       "      <td>-1.167284</td>\n",
       "      <td>-0.398785</td>\n",
       "      <td>-0.217803</td>\n",
       "      <td>1.345418</td>\n",
       "      <td>1.460822</td>\n",
       "    </tr>\n",
       "    <tr>\n",
       "      <th>18</th>\n",
       "      <td>-313.411621</td>\n",
       "      <td>136.260345</td>\n",
       "      <td>-22.847345</td>\n",
       "      <td>23.661484</td>\n",
       "      <td>-3.566035</td>\n",
       "      <td>-0.012856</td>\n",
       "      <td>-9.639300</td>\n",
       "      <td>-4.781059</td>\n",
       "      <td>-19.946249</td>\n",
       "      <td>-4.297126</td>\n",
       "      <td>...</td>\n",
       "      <td>0.202950</td>\n",
       "      <td>-0.457577</td>\n",
       "      <td>3.554882</td>\n",
       "      <td>-0.277863</td>\n",
       "      <td>-0.002961</td>\n",
       "      <td>-0.825653</td>\n",
       "      <td>-2.256764</td>\n",
       "      <td>-1.558542</td>\n",
       "      <td>-2.628232</td>\n",
       "      <td>-2.675112</td>\n",
       "    </tr>\n",
       "    <tr>\n",
       "      <th>39</th>\n",
       "      <td>-304.547333</td>\n",
       "      <td>138.374115</td>\n",
       "      <td>-8.341937</td>\n",
       "      <td>24.464441</td>\n",
       "      <td>-17.815441</td>\n",
       "      <td>-7.079212</td>\n",
       "      <td>-11.706789</td>\n",
       "      <td>-1.044791</td>\n",
       "      <td>-18.399317</td>\n",
       "      <td>-7.092944</td>\n",
       "      <td>...</td>\n",
       "      <td>-1.148782</td>\n",
       "      <td>1.427197</td>\n",
       "      <td>1.723675</td>\n",
       "      <td>0.702057</td>\n",
       "      <td>1.771227</td>\n",
       "      <td>-0.474988</td>\n",
       "      <td>-0.938377</td>\n",
       "      <td>0.153156</td>\n",
       "      <td>-2.944817</td>\n",
       "      <td>-1.235038</td>\n",
       "    </tr>\n",
       "    <tr>\n",
       "      <th>150</th>\n",
       "      <td>-289.125275</td>\n",
       "      <td>142.745438</td>\n",
       "      <td>-3.469182</td>\n",
       "      <td>15.600102</td>\n",
       "      <td>3.519384</td>\n",
       "      <td>4.819232</td>\n",
       "      <td>3.596853</td>\n",
       "      <td>5.404217</td>\n",
       "      <td>-4.948727</td>\n",
       "      <td>-17.315500</td>\n",
       "      <td>...</td>\n",
       "      <td>-2.411105</td>\n",
       "      <td>-1.665496</td>\n",
       "      <td>-1.988060</td>\n",
       "      <td>-4.124808</td>\n",
       "      <td>-2.106626</td>\n",
       "      <td>-0.753799</td>\n",
       "      <td>-2.052995</td>\n",
       "      <td>-2.396672</td>\n",
       "      <td>2.585941</td>\n",
       "      <td>6.181386</td>\n",
       "    </tr>\n",
       "    <tr>\n",
       "      <th>...</th>\n",
       "      <td>...</td>\n",
       "      <td>...</td>\n",
       "      <td>...</td>\n",
       "      <td>...</td>\n",
       "      <td>...</td>\n",
       "      <td>...</td>\n",
       "      <td>...</td>\n",
       "      <td>...</td>\n",
       "      <td>...</td>\n",
       "      <td>...</td>\n",
       "      <td>...</td>\n",
       "      <td>...</td>\n",
       "      <td>...</td>\n",
       "      <td>...</td>\n",
       "      <td>...</td>\n",
       "      <td>...</td>\n",
       "      <td>...</td>\n",
       "      <td>...</td>\n",
       "      <td>...</td>\n",
       "      <td>...</td>\n",
       "      <td>...</td>\n",
       "    </tr>\n",
       "    <tr>\n",
       "      <th>105</th>\n",
       "      <td>-456.640991</td>\n",
       "      <td>114.744415</td>\n",
       "      <td>-65.722954</td>\n",
       "      <td>1.116204</td>\n",
       "      <td>6.072038</td>\n",
       "      <td>-8.319281</td>\n",
       "      <td>-19.219690</td>\n",
       "      <td>-13.533270</td>\n",
       "      <td>-11.740120</td>\n",
       "      <td>1.221507</td>\n",
       "      <td>...</td>\n",
       "      <td>1.042308</td>\n",
       "      <td>3.254122</td>\n",
       "      <td>0.172641</td>\n",
       "      <td>2.453609</td>\n",
       "      <td>4.139007</td>\n",
       "      <td>-0.625352</td>\n",
       "      <td>0.393855</td>\n",
       "      <td>-0.945789</td>\n",
       "      <td>-1.024489</td>\n",
       "      <td>0.048661</td>\n",
       "    </tr>\n",
       "    <tr>\n",
       "      <th>67</th>\n",
       "      <td>-255.189178</td>\n",
       "      <td>142.732483</td>\n",
       "      <td>19.704395</td>\n",
       "      <td>24.046423</td>\n",
       "      <td>1.555035</td>\n",
       "      <td>-5.478623</td>\n",
       "      <td>-8.050855</td>\n",
       "      <td>2.340046</td>\n",
       "      <td>-18.401297</td>\n",
       "      <td>-6.018225</td>\n",
       "      <td>...</td>\n",
       "      <td>1.557543</td>\n",
       "      <td>2.958105</td>\n",
       "      <td>2.526149</td>\n",
       "      <td>3.070998</td>\n",
       "      <td>0.697208</td>\n",
       "      <td>-0.326839</td>\n",
       "      <td>-0.215922</td>\n",
       "      <td>0.675157</td>\n",
       "      <td>0.832778</td>\n",
       "      <td>-0.554492</td>\n",
       "    </tr>\n",
       "    <tr>\n",
       "      <th>56</th>\n",
       "      <td>-323.943481</td>\n",
       "      <td>124.048584</td>\n",
       "      <td>-6.189987</td>\n",
       "      <td>26.021643</td>\n",
       "      <td>-14.084455</td>\n",
       "      <td>-0.248841</td>\n",
       "      <td>-10.187043</td>\n",
       "      <td>0.578658</td>\n",
       "      <td>-13.633377</td>\n",
       "      <td>-2.649216</td>\n",
       "      <td>...</td>\n",
       "      <td>0.755940</td>\n",
       "      <td>0.806551</td>\n",
       "      <td>0.545544</td>\n",
       "      <td>0.716129</td>\n",
       "      <td>0.485661</td>\n",
       "      <td>-1.140695</td>\n",
       "      <td>-1.362582</td>\n",
       "      <td>-0.666886</td>\n",
       "      <td>-1.641173</td>\n",
       "      <td>-1.238436</td>\n",
       "    </tr>\n",
       "    <tr>\n",
       "      <th>179</th>\n",
       "      <td>-280.341278</td>\n",
       "      <td>141.334366</td>\n",
       "      <td>-4.940029</td>\n",
       "      <td>19.982378</td>\n",
       "      <td>5.714639</td>\n",
       "      <td>12.433653</td>\n",
       "      <td>2.284604</td>\n",
       "      <td>4.212228</td>\n",
       "      <td>-3.063920</td>\n",
       "      <td>-19.621639</td>\n",
       "      <td>...</td>\n",
       "      <td>-5.101983</td>\n",
       "      <td>-2.004070</td>\n",
       "      <td>-4.628380</td>\n",
       "      <td>-7.135531</td>\n",
       "      <td>-2.596452</td>\n",
       "      <td>-1.744920</td>\n",
       "      <td>-3.862128</td>\n",
       "      <td>-4.752705</td>\n",
       "      <td>-0.192972</td>\n",
       "      <td>3.648925</td>\n",
       "    </tr>\n",
       "    <tr>\n",
       "      <th>25</th>\n",
       "      <td>-288.937958</td>\n",
       "      <td>145.690659</td>\n",
       "      <td>-18.082767</td>\n",
       "      <td>22.953323</td>\n",
       "      <td>-1.656983</td>\n",
       "      <td>-4.571087</td>\n",
       "      <td>-7.499184</td>\n",
       "      <td>-8.145245</td>\n",
       "      <td>-23.856777</td>\n",
       "      <td>-4.718375</td>\n",
       "      <td>...</td>\n",
       "      <td>-0.184605</td>\n",
       "      <td>2.406788</td>\n",
       "      <td>2.234810</td>\n",
       "      <td>1.479360</td>\n",
       "      <td>0.017972</td>\n",
       "      <td>-0.991378</td>\n",
       "      <td>-2.294459</td>\n",
       "      <td>-1.589784</td>\n",
       "      <td>-2.549996</td>\n",
       "      <td>-2.379057</td>\n",
       "    </tr>\n",
       "  </tbody>\n",
       "</table>\n",
       "<p>137 rows × 40 columns</p>\n",
       "</div>"
      ],
      "text/plain": [
       "             0           1          2          3          4          5   \\\n",
       "44  -305.903748  136.767487 -21.158831   8.689246   1.264073  -9.472857   \n",
       "65  -175.521408  113.198578  -9.703684   6.807632 -25.204927 -16.207237   \n",
       "18  -313.411621  136.260345 -22.847345  23.661484  -3.566035  -0.012856   \n",
       "39  -304.547333  138.374115  -8.341937  24.464441 -17.815441  -7.079212   \n",
       "150 -289.125275  142.745438  -3.469182  15.600102   3.519384   4.819232   \n",
       "..          ...         ...        ...        ...        ...        ...   \n",
       "105 -456.640991  114.744415 -65.722954   1.116204   6.072038  -8.319281   \n",
       "67  -255.189178  142.732483  19.704395  24.046423   1.555035  -5.478623   \n",
       "56  -323.943481  124.048584  -6.189987  26.021643 -14.084455  -0.248841   \n",
       "179 -280.341278  141.334366  -4.940029  19.982378   5.714639  12.433653   \n",
       "25  -288.937958  145.690659 -18.082767  22.953323  -1.656983  -4.571087   \n",
       "\n",
       "            6          7          8          9   ...        30        31  \\\n",
       "44  -15.904866  -6.767755 -22.586054  -4.302612  ... -1.555829  1.806672   \n",
       "65   -9.449834   9.714764 -20.350412   1.679502  ... -0.295250  1.693194   \n",
       "18   -9.639300  -4.781059 -19.946249  -4.297126  ...  0.202950 -0.457577   \n",
       "39  -11.706789  -1.044791 -18.399317  -7.092944  ... -1.148782  1.427197   \n",
       "150   3.596853   5.404217  -4.948727 -17.315500  ... -2.411105 -1.665496   \n",
       "..         ...        ...        ...        ...  ...       ...       ...   \n",
       "105 -19.219690 -13.533270 -11.740120   1.221507  ...  1.042308  3.254122   \n",
       "67   -8.050855   2.340046 -18.401297  -6.018225  ...  1.557543  2.958105   \n",
       "56  -10.187043   0.578658 -13.633377  -2.649216  ...  0.755940  0.806551   \n",
       "179   2.284604   4.212228  -3.063920 -19.621639  ... -5.101983 -2.004070   \n",
       "25   -7.499184  -8.145245 -23.856777  -4.718375  ... -0.184605  2.406788   \n",
       "\n",
       "           32        33        34        35        36        37        38  \\\n",
       "44   1.826841  0.052386  0.930716 -0.991762 -2.913344 -0.822944 -3.418969   \n",
       "65   0.858459  0.912394  0.477799 -1.167284 -0.398785 -0.217803  1.345418   \n",
       "18   3.554882 -0.277863 -0.002961 -0.825653 -2.256764 -1.558542 -2.628232   \n",
       "39   1.723675  0.702057  1.771227 -0.474988 -0.938377  0.153156 -2.944817   \n",
       "150 -1.988060 -4.124808 -2.106626 -0.753799 -2.052995 -2.396672  2.585941   \n",
       "..        ...       ...       ...       ...       ...       ...       ...   \n",
       "105  0.172641  2.453609  4.139007 -0.625352  0.393855 -0.945789 -1.024489   \n",
       "67   2.526149  3.070998  0.697208 -0.326839 -0.215922  0.675157  0.832778   \n",
       "56   0.545544  0.716129  0.485661 -1.140695 -1.362582 -0.666886 -1.641173   \n",
       "179 -4.628380 -7.135531 -2.596452 -1.744920 -3.862128 -4.752705 -0.192972   \n",
       "25   2.234810  1.479360  0.017972 -0.991378 -2.294459 -1.589784 -2.549996   \n",
       "\n",
       "           39  \n",
       "44  -3.153448  \n",
       "65   1.460822  \n",
       "18  -2.675112  \n",
       "39  -1.235038  \n",
       "150  6.181386  \n",
       "..        ...  \n",
       "105  0.048661  \n",
       "67  -0.554492  \n",
       "56  -1.238436  \n",
       "179  3.648925  \n",
       "25  -2.379057  \n",
       "\n",
       "[137 rows x 40 columns]"
      ]
     },
     "execution_count": 26,
     "metadata": {},
     "output_type": "execute_result"
    }
   ],
   "source": [
    "x_train"
   ]
  },
  {
   "cell_type": "markdown",
   "metadata": {},
   "source": [
    "# svm"
   ]
  },
  {
   "cell_type": "code",
   "execution_count": 27,
   "metadata": {
    "scrolled": true
   },
   "outputs": [
    {
     "name": "stdout",
     "output_type": "stream",
     "text": [
      "Accuracy:0.891304\n"
     ]
    },
    {
     "data": {
      "text/plain": [
       "<matplotlib.collections.PathCollection at 0x2b589bbae50>"
      ]
     },
     "execution_count": 27,
     "metadata": {},
     "output_type": "execute_result"
    },
    {
     "data": {
      "image/png": "[encoded data removed]",
      "text/plain": [
       "<Figure size 432x288 with 1 Axes>"
      ]
     },
     "metadata": {
      "needs_background": "light"
     },
     "output_type": "display_data"
    }
   ],
   "source": [
    "from sklearn import svm\n",
    "clf = svm.SVC(kernel=\"poly\", degree=3,  C=4)\n",
    "clf.fit(x_train, y_train)\n",
    "y_pred=clf.predict(x_test)\n",
    "score = metrics.accuracy_score(y_test,y_pred)\n",
    "print('Accuracy:{0:f}'.format(score))\n",
    "ohe.fit(y_pred)\n",
    "p=ohe.transform(y_pred)\n",
    "plt.scatter(X2D_t[:, 0], X2D_t[:, 1], c=p)"
   ]
  },
  {
   "cell_type": "code",
   "execution_count": 28,
   "metadata": {},
   "outputs": [
    {
     "data": {
      "text/plain": [
       "array([0.61538462, 1.        , 1.        , 0.66666667])"
      ]
     },
     "execution_count": 28,
     "metadata": {},
     "output_type": "execute_result"
    }
   ],
   "source": [
    "from sklearn.metrics import f1_score\n",
    "f1_score(y_test, y_pred, average=None)"
   ]
  },
  {
   "cell_type": "code",
   "execution_count": null,
   "metadata": {},
   "outputs": [],
   "source": []
  },
  {
   "cell_type": "code",
   "execution_count": 29,
   "metadata": {},
   "outputs": [
    {
     "data": {
      "image/png": "[encoded data removed]",
      "text/plain": [
       "<Figure size 432x288 with 2 Axes>"
      ]
     },
     "metadata": {
      "needs_background": "light"
     },
     "output_type": "display_data"
    }
   ],
   "source": [
    "from sklearn.metrics import plot_confusion_matrix\n",
    "plot_confusion_matrix(clf, x_test,y_test)  \n",
    "plt.show()"
   ]
  },
  {
   "cell_type": "code",
   "execution_count": null,
   "metadata": {},
   "outputs": [],
   "source": []
  },
  {
   "cell_type": "code",
   "execution_count": null,
   "metadata": {},
   "outputs": [],
   "source": []
  },
  {
   "cell_type": "markdown",
   "metadata": {},
   "source": [
    "# KNeighborsClassifier"
   ]
  },
  {
   "cell_type": "code",
   "execution_count": 30,
   "metadata": {},
   "outputs": [
    {
     "name": "stdout",
     "output_type": "stream",
     "text": [
      "Accuracy:0.956522\n"
     ]
    },
    {
     "data": {
      "image/png": "[encoded data removed]",
      "text/plain": [
       "<Figure size 432x288 with 1 Axes>"
      ]
     },
     "metadata": {
      "needs_background": "light"
     },
     "output_type": "display_data"
    }
   ],
   "source": [
    "from sklearn.neighbors import KNeighborsClassifier\n",
    "classifier = KNeighborsClassifier(n_neighbors=1)\n",
    "classifier.fit(x_train, y_train)\n",
    "y_pred = classifier.predict(x_test)\n",
    "p=ohe.transform(y_pred)\n",
    "score = metrics.accuracy_score(y_test,y_pred)\n",
    "print('Accuracy:{0:f}'.format(score))\n",
    "plt.scatter(X2D_t[:, 0], X2D_t[:, 1], c=p);"
   ]
  },
  {
   "cell_type": "code",
   "execution_count": 31,
   "metadata": {},
   "outputs": [
    {
     "data": {
      "text/plain": [
       "array([1.        , 1.        , 0.95      , 0.83333333])"
      ]
     },
     "execution_count": 31,
     "metadata": {},
     "output_type": "execute_result"
    }
   ],
   "source": [
    "from sklearn.metrics import precision_score\n",
    "precision_score(y_test, y_pred, average=None)"
   ]
  },
  {
   "cell_type": "code",
   "execution_count": 32,
   "metadata": {},
   "outputs": [
    {
     "data": {
      "image/png": "[encoded data removed]",
      "text/plain": [
       "<Figure size 432x288 with 2 Axes>"
      ]
     },
     "metadata": {
      "needs_background": "light"
     },
     "output_type": "display_data"
    }
   ],
   "source": [
    "from sklearn.metrics import plot_confusion_matrix\n",
    "plot_confusion_matrix(classifier, x_test, y_test)  \n",
    "plt.show()"
   ]
  },
  {
   "cell_type": "code",
   "execution_count": 33,
   "metadata": {},
   "outputs": [
    {
     "data": {
      "text/plain": [
       "array([1.        , 1.        , 0.95      , 0.83333333])"
      ]
     },
     "execution_count": 33,
     "metadata": {},
     "output_type": "execute_result"
    }
   ],
   "source": [
    "from sklearn.metrics import precision_score\n",
    "precision_score(y_test, y_pred, average=None)"
   ]
  },
  {
   "cell_type": "markdown",
   "metadata": {},
   "source": [
    "# Decision Tree\n"
   ]
  },
  {
   "cell_type": "code",
   "execution_count": 34,
   "metadata": {},
   "outputs": [
    {
     "name": "stdout",
     "output_type": "stream",
     "text": [
      "Accuracy:0.826087\n"
     ]
    },
    {
     "data": {
      "image/png": "[encoded data removed]",
      "text/plain": [
       "<Figure size 432x288 with 1 Axes>"
      ]
     },
     "metadata": {
      "needs_background": "light"
     },
     "output_type": "display_data"
    },
    {
     "data": {
      "image/png": "[encoded data removed]",
      "text/plain": [
       "<Figure size 432x288 with 2 Axes>"
      ]
     },
     "metadata": {
      "needs_background": "light"
     },
     "output_type": "display_data"
    }
   ],
   "source": [
    "from sklearn import tree\n",
    "clf = tree.DecisionTreeClassifier()\n",
    "D_clf = clf.fit(x_train, y_train)\n",
    "y_pred=clf.predict(x_test)\n",
    "p=ohe.transform(y_pred)\n",
    "score = metrics.accuracy_score(y_test,y_pred)\n",
    "print('Accuracy:{0:f}'.format(score))\n",
    "plt.scatter(X2D_t[:, 0], X2D_t[:, 1], c=p)\n",
    "plot_confusion_matrix(D_clf, x_test, y_test)  \n",
    "plt.show()"
   ]
  },
  {
   "cell_type": "code",
   "execution_count": 35,
   "metadata": {},
   "outputs": [
    {
     "data": {
      "text/plain": [
       "array([0.625     , 0.92857143, 1.        , 0.5       ])"
      ]
     },
     "execution_count": 35,
     "metadata": {},
     "output_type": "execute_result"
    }
   ],
   "source": [
    "from sklearn.metrics import precision_score\n",
    "precision_score(y_test, y_pred, average=None)"
   ]
  },
  {
   "cell_type": "code",
   "execution_count": 36,
   "metadata": {},
   "outputs": [],
   "source": [
    "import speech_recognition as sr #pip install speechRecognition\n",
    "def initialrecording():\n",
    "    with sr.Microphone() as source:\n",
    "        print(\"Listening...\\n\")\n",
    "        print(\"speak .. something ...\\n\")\n",
    "        r.pause_threshold = 1\n",
    "        audio = r.listen(source)\n",
    "        path =str(x.iloc[i,1])+ str(\"\\\\\")+ str(x.iloc[i,0]) # required path\n",
    "        f= open(path,\"w+\")\n",
    "        sf.write(path, augmented_signal, sr)\n",
    "    try:\n",
    "        print(\"Recognizing...\")\n",
    "        directory = \"new\"\n",
    "        parent_dir = \"F:\\\\project\"\n",
    "        path = os.path.join(parent_dir, directory)\n",
    "        os.mkdir(path)\n",
    "        split_wav = SplitWavAudioMubin(path, file)\n",
    "        split_wav.multiple_split(min_per_split=0.2)\n",
    "    except Exception as e:\n",
    "        # print(e)    \n",
    "        print(\"Say that again please...\")  \n",
    "        return \"None\"\n",
    "    "
   ]
  },
  {
   "cell_type": "code",
   "execution_count": 37,
   "metadata": {},
   "outputs": [],
   "source": [
    "def recording(audio):\n",
    "        mfccs_features = librosa.feature.mfcc(y=audio, sr=sample_rate, n_mfcc=40)\n",
    "        mfccs_scaled_features = np.mean(mfccs_features.T,axis=0)\n",
    "        print(clf.predict(mfccs_scaled_features))\n",
    "        speak(str(clf.predict(mfccs_scaled_features)))"
   ]
  },
  {
   "cell_type": "code",
   "execution_count": 38,
   "metadata": {},
   "outputs": [],
   "source": [
    "from pydub import AudioSegment\n",
    "import math\n",
    "\n",
    "class SplitWavAudioMubin():\n",
    "    def __init__(self, folder, filename):\n",
    "        self.folder = folder\n",
    "        self.filename = filename\n",
    "        self.filepath = folder + '\\\\' + filename\n",
    "        \n",
    "        self.audio = AudioSegment.from_wav(self.filepath)\n",
    "    \n",
    "    def get_duration(self):\n",
    "        return self.audio.duration_seconds\n",
    "    \n",
    "    def single_split(self, from_min, to_min, split_filename):\n",
    "        t1 = from_min * 60 * 1000\n",
    "        t2 = to_min * 60 * 1000\n",
    "        split_audio = self.audio[t1:t2]\n",
    "        split_audio.export(self.folder + '\\\\' + split_filename, format=\"wav\")\n",
    "        \n",
    "    def multiple_split(self, min_per_split):\n",
    "        total_mins = math.ceil(self.get_duration() / 60)\n",
    "        for i in range(0, total_mins, min_per_split):\n",
    "            split_fn = str(i) + '_' + self.filename\n",
    "            self.single_split(i, i+min_per_split, split_fn)\n",
    "            print(str(i) + ' Done')\n",
    "            if i == total_mins - min_per_split:\n",
    "                print('All splited successfully')"
   ]
  },
  {
   "cell_type": "code",
   "execution_count": 40,
   "metadata": {},
   "outputs": [],
   "source": [
    "#edf.to_csv(r'F:\\project\\my_data.csv', index=False)"
   ]
  },
  {
   "cell_type": "code",
   "execution_count": null,
   "metadata": {},
   "outputs": [],
   "source": []
  },
  {
   "cell_type": "code",
   "execution_count": null,
   "metadata": {},
   "outputs": [],
   "source": []
  },
  {
   "cell_type": "code",
   "execution_count": null,
   "metadata": {},
   "outputs": [],
   "source": []
  },
  {
   "cell_type": "markdown",
   "metadata": {},
   "source": [
    "#1Testing the model"
   ]
  },
  {
   "cell_type": "code",
   "execution_count": null,
   "metadata": {},
   "outputs": [],
   "source": [
    "input_path=\"F:\\project\\chiru_original\\9_1.wav\"\n",
    "audio, sample_rate=librosa.load(input_path)\n",
    "mfccs_features = librosa.feature.mfcc(y=audio, sr=sample_rate, n_mfcc=40)\n",
    "mfccs_scaled_features = np.mean(mfccs_features.T,axis=0)\n",
    "l=[mfccs_scaled_features]\n",
    "clf.predict(l)"
   ]
  },
  {
   "cell_type": "code",
   "execution_count": null,
   "metadata": {},
   "outputs": [],
   "source": []
  },
  {
   "cell_type": "code",
   "execution_count": null,
   "metadata": {},
   "outputs": [],
   "source": []
  },
  {
   "cell_type": "code",
   "execution_count": null,
   "metadata": {},
   "outputs": [],
   "source": []
  },
  {
   "cell_type": "code",
   "execution_count": null,
   "metadata": {},
   "outputs": [],
   "source": []
  },
  {
   "cell_type": "code",
   "execution_count": null,
   "metadata": {},
   "outputs": [],
   "source": []
  },
  {
   "cell_type": "code",
   "execution_count": 65,
   "metadata": {},
   "outputs": [
    {
     "name": "stdout",
     "output_type": "stream",
     "text": [
      "0.8033033033033034\n"
     ]
    }
   ],
   "source": [
    "import numpy as np\n",
    "from sklearn.model_selection import StratifiedKFold\n",
    "skf = StratifiedKFold(n_splits=5)\n",
    "\n",
    "skf.get_n_splits(edf.iloc[:,0:40], edf.iloc[:,-1])\n",
    "y=[]\n",
    "for i,j in skf.split(edf.iloc[:,0:40],edf.iloc[:,-1]):\n",
    "    x_traink=edf.iloc[i,0:40]\n",
    "    y_traink=edf.iloc[i,-1]\n",
    "    x_testk=edf.iloc[j,0:40]\n",
    "    y_testk=edf.iloc[j,-1]\n",
    "    from sklearn import KNeighborsClassifier\n",
    "    clf = KNeighborsClassifier(kernel=\"poly\", degree=3,  C=4)\n",
    "    clf.fit(x_traink, y_traink)\n",
    "    y_predk=clf.predict(x_testk)\n",
    "    score = metrics.accuracy_score(y_testk,y_predk)\n",
    "    y.append(score)\n",
    "    \n",
    "print(sum(y)/5)\n",
    "    \n",
    "    "
   ]
  },
  {
   "cell_type": "code",
   "execution_count": 66,
   "metadata": {},
   "outputs": [
    {
     "name": "stdout",
     "output_type": "stream",
     "text": [
      "0.8033033033033032\n"
     ]
    }
   ],
   "source": [
    "import numpy as np\n",
    "from sklearn.model_selection import StratifiedKFold\n",
    "skf = StratifiedKFold(n_splits=5)\n",
    "\n",
    "skf.get_n_splits(edf.iloc[:,0:40], edf.iloc[:,-1])\n",
    "y=[]\n",
    "for i,j in skf.split(edf.iloc[:,0:40],edf.iloc[:,-1]):\n",
    "    x_traink=edf.iloc[i,0:40]\n",
    "    y_traink=edf.iloc[i,-1]\n",
    "    x_testk=edf.iloc[j,0:40]\n",
    "    y_testk=edf.iloc[j,-1]\n",
    "    from sklearn import tree\n",
    "    D_clf = tree.DecisionTreeClassifier()\n",
    "    D_clf.fit(x_traink, y_traink)\n",
    "    y_predk=D_clf.predict(x_testk)\n",
    "    score = metrics.accuracy_score(y_testk,y_predk)\n",
    "    y.append(score)\n",
    "print(sum(y)/5)"
   ]
  },
  {
   "cell_type": "code",
   "execution_count": 67,
   "metadata": {},
   "outputs": [
    {
     "name": "stdout",
     "output_type": "stream",
     "text": [
      "0.8581081081081081\n"
     ]
    }
   ],
   "source": [
    "import numpy as np\n",
    "from sklearn.model_selection import StratifiedKFold\n",
    "skf = StratifiedKFold(n_splits=5)\n",
    "\n",
    "skf.get_n_splits(edf.iloc[:,0:40], edf.iloc[:,-1])\n",
    "y=[]\n",
    "for i,j in skf.split(edf.iloc[:,0:40],edf.iloc[:,-1]):\n",
    "    x_traink=edf.iloc[i,0:40]\n",
    "    y_traink=edf.iloc[i,-1]\n",
    "    x_testk=edf.iloc[j,0:40]\n",
    "    y_testk=edf.iloc[j,-1]\n",
    "    from sklearn.neighbors import KNeighborsClassifier\n",
    "    clf1 = KNeighborsClassifier(n_neighbors=5)\n",
    "    clf1.fit(x_traink, y_traink)\n",
    "    y_predk=clf1.predict(x_testk)\n",
    "    score = metrics.accuracy_score(y_testk,y_predk)\n",
    "    y.append(score)\n",
    "print(sum(y)/5)"
   ]
  },
  {
   "cell_type": "code",
   "execution_count": null,
   "metadata": {},
   "outputs": [],
   "source": []
  },
  {
   "cell_type": "code",
   "execution_count": null,
   "metadata": {},
   "outputs": [],
   "source": []
  }
 ],
 "metadata": {
  "kernelspec": {
   "display_name": "Python 3",
   "language": "python",
   "name": "python3"
  },
  "language_info": {
   "codemirror_mode": {
    "name": "ipython",
    "version": 3
   },
   "file_extension": ".py",
   "mimetype": "text/x-python",
   "name": "python",
   "nbconvert_exporter": "python",
   "pygments_lexer": "ipython3",
   "version": "3.8.3"
  }
 },
 "nbformat": 4,
 "nbformat_minor": 4
}
